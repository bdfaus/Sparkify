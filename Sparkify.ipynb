{
 "cells": [
  {
   "cell_type": "markdown",
   "metadata": {},
   "source": [
    "# Sparkify Project Workspace\n",
    "This workspace contains a tiny subset (128MB) of the full dataset available (12GB). Feel free to use this workspace to build your project, or to explore a smaller subset with Spark before deploying your cluster on the cloud. Instructions for setting up your Spark cluster is included in the last lesson of the Extracurricular Spark Course content.\n",
    "\n",
    "You can follow the steps below to guide your data analysis and model building portion of this project."
   ]
  },
  {
   "cell_type": "code",
   "execution_count": 1,
   "metadata": {},
   "outputs": [
    {
     "name": "stdout",
     "output_type": "stream",
     "text": [
      "+-----+\n",
      "|hello|\n",
      "+-----+\n",
      "|spark|\n",
      "+-----+\n",
      "\n"
     ]
    }
   ],
   "source": [
    "#for Windows\n",
    "import findspark\n",
    "findspark.init()\n",
    "\n",
    "import pyspark # only run after findspark.init()\n",
    "from pyspark.sql import SparkSession\n",
    "spark = SparkSession.builder.getOrCreate()\n",
    "\n",
    "df = spark.sql('''select 'spark' as hello ''')\n",
    "df.show()"
   ]
  },
  {
   "cell_type": "code",
   "execution_count": 111,
   "metadata": {},
   "outputs": [],
   "source": [
    "# import libraries\n",
    "from pyspark import SparkContext, SparkConf\n",
    "from pyspark.sql import SparkSession, Window\n",
    "from pyspark.sql import functions as f\n",
    "from pyspark.sql.types import IntegerType, StringType\n",
    "from pyspark.sql.window import Window as w\n",
    "from pyspark.ml.classification import LogisticRegression\n",
    "from pyspark.ml.feature import VectorAssembler\n",
    "import sys\n",
    "\n",
    "import numpy as np\n",
    "import pandas as pd\n",
    "%matplotlib inline\n",
    "import matplotlib.pyplot as plt"
   ]
  },
  {
   "cell_type": "code",
   "execution_count": 3,
   "metadata": {
    "collapsed": true
   },
   "outputs": [],
   "source": [
    "# create a Spark session\n",
    "# docs here: https://spark.apache.org/docs/latest/api/python/pyspark.sql.html\n",
    "# configure = SparkConf().setAppName(\"Sparkify\").setMaster(\"local\")\n",
    "    #     for SparkSession # .config(conf=configure) \\\n",
    "spark = SparkSession \\\n",
    "    .builder \\\n",
    "    .getOrCreate()\n",
    "    \n",
    "    "
   ]
  },
  {
   "cell_type": "markdown",
   "metadata": {},
   "source": [
    "# Load and Clean Dataset\n",
    "Clean your dataset, checking for invalid or missing data. For example, records without userids or sessionids. In this workspace, the filename is `mini_sparkify_event_data.json`."
   ]
  },
  {
   "cell_type": "code",
   "execution_count": 4,
   "metadata": {},
   "outputs": [
    {
     "data": {
      "text/plain": [
       "Row(artist='Martha Tilston', auth='Logged In', firstName='Colin', gender='M', itemInSession=50, lastName='Freeman', length=277.89016, level='paid', location='Bakersfield, CA', method='PUT', page='NextSong', registration=1538173362000, sessionId=29, song='Rockpools', status=200, ts=1538352117000, userAgent='Mozilla/5.0 (Windows NT 6.1; WOW64; rv:31.0) Gecko/20100101 Firefox/31.0', userId='30')"
      ]
     },
     "execution_count": 4,
     "metadata": {},
     "output_type": "execute_result"
    }
   ],
   "source": [
    "df = spark.read.json('mini_sparkify_event_data.json')\n",
    "df.head()"
   ]
  },
  {
   "cell_type": "markdown",
   "metadata": {},
   "source": [
    "# Exploratory Data Analysis\n",
    "When you're working with the full dataset, perform EDA by loading a small subset of the data and doing basic manipulations within Spark. In this workspace, you are already provided a small subset of data you can explore.\n",
    "\n",
    "### Define Churn\n",
    "\n",
    "Once you've done some preliminary analysis, create a column `Churn` to use as the label for your model. I suggest using the `Cancellation Confirmation` events to define your churn, which happen for both paid and free users. As a bonus task, you can also look into the `Downgrade` events.\n",
    "\n",
    "### Explore Data\n",
    "Once you've defined churn, perform some exploratory data analysis to observe the behavior for users who stayed vs users who churned. You can start by exploring aggregates on these two groups of users, observing how much of a specific action they experienced per a certain time unit or number of songs played."
   ]
  },
  {
   "cell_type": "code",
   "execution_count": 5,
   "metadata": {
    "scrolled": true
   },
   "outputs": [
    {
     "name": "stdout",
     "output_type": "stream",
     "text": [
      "root\n",
      " |-- artist: string (nullable = true)\n",
      " |-- auth: string (nullable = true)\n",
      " |-- firstName: string (nullable = true)\n",
      " |-- gender: string (nullable = true)\n",
      " |-- itemInSession: long (nullable = true)\n",
      " |-- lastName: string (nullable = true)\n",
      " |-- length: double (nullable = true)\n",
      " |-- level: string (nullable = true)\n",
      " |-- location: string (nullable = true)\n",
      " |-- method: string (nullable = true)\n",
      " |-- page: string (nullable = true)\n",
      " |-- registration: long (nullable = true)\n",
      " |-- sessionId: long (nullable = true)\n",
      " |-- song: string (nullable = true)\n",
      " |-- status: long (nullable = true)\n",
      " |-- ts: long (nullable = true)\n",
      " |-- userAgent: string (nullable = true)\n",
      " |-- userId: string (nullable = true)\n",
      "\n"
     ]
    }
   ],
   "source": [
    "df.printSchema()"
   ]
  },
  {
   "cell_type": "code",
   "execution_count": 6,
   "metadata": {},
   "outputs": [
    {
     "name": "stdout",
     "output_type": "stream",
     "text": [
      "+----------------+---------+---------+------+-------------+--------+---------+-----+--------------------+------+--------+-------------+---------+---------+------+-------------+--------------------+------+\n",
      "|          artist|     auth|firstName|gender|itemInSession|lastName|   length|level|            location|method|    page| registration|sessionId|     song|status|           ts|           userAgent|userId|\n",
      "+----------------+---------+---------+------+-------------+--------+---------+-----+--------------------+------+--------+-------------+---------+---------+------+-------------+--------------------+------+\n",
      "|  Martha Tilston|Logged In|    Colin|     M|           50| Freeman|277.89016| paid|     Bakersfield, CA|   PUT|NextSong|1538173362000|       29|Rockpools|   200|1538352117000|Mozilla/5.0 (Wind...|    30|\n",
      "|Five Iron Frenzy|Logged In|    Micah|     M|           79|    Long|236.09424| free|Boston-Cambridge-...|   PUT|NextSong|1538331630000|        8|   Canada|   200|1538352180000|\"Mozilla/5.0 (Win...|     9|\n",
      "+----------------+---------+---------+------+-------------+--------+---------+-----+--------------------+------+--------+-------------+---------+---------+------+-------------+--------------------+------+\n",
      "only showing top 2 rows\n",
      "\n"
     ]
    }
   ],
   "source": [
    "df.show(2)"
   ]
  },
  {
   "cell_type": "code",
   "execution_count": 7,
   "metadata": {},
   "outputs": [
    {
     "data": {
      "text/plain": [
       "286500"
      ]
     },
     "execution_count": 7,
     "metadata": {},
     "output_type": "execute_result"
    }
   ],
   "source": [
    "#num rows\n",
    "df.count()"
   ]
  },
  {
   "cell_type": "code",
   "execution_count": 8,
   "metadata": {},
   "outputs": [
    {
     "data": {
      "text/plain": [
       "278154"
      ]
     },
     "execution_count": 8,
     "metadata": {},
     "output_type": "execute_result"
    }
   ],
   "source": [
    "df = df.dropna(thresh=15)\n",
    "df.count()"
   ]
  },
  {
   "cell_type": "code",
   "execution_count": 9,
   "metadata": {},
   "outputs": [
    {
     "data": {
      "text/plain": [
       "0.970869109947644"
      ]
     },
     "execution_count": 9,
     "metadata": {},
     "output_type": "execute_result"
    }
   ],
   "source": [
    "278154/286500"
   ]
  },
  {
   "cell_type": "code",
   "execution_count": 10,
   "metadata": {},
   "outputs": [
    {
     "name": "stdout",
     "output_type": "stream",
     "text": [
      "+--------------------+\n",
      "|                page|\n",
      "+--------------------+\n",
      "|              Cancel|\n",
      "|    Submit Downgrade|\n",
      "|         Thumbs Down|\n",
      "|                Home|\n",
      "|           Downgrade|\n",
      "|         Roll Advert|\n",
      "|              Logout|\n",
      "|       Save Settings|\n",
      "|Cancellation Conf...|\n",
      "|               About|\n",
      "|            Settings|\n",
      "|     Add to Playlist|\n",
      "|          Add Friend|\n",
      "|            NextSong|\n",
      "|           Thumbs Up|\n",
      "|                Help|\n",
      "|             Upgrade|\n",
      "|               Error|\n",
      "|      Submit Upgrade|\n",
      "+--------------------+\n",
      "\n"
     ]
    }
   ],
   "source": [
    "df.select('page').distinct().show()"
   ]
  },
  {
   "cell_type": "code",
   "execution_count": 11,
   "metadata": {},
   "outputs": [
    {
     "name": "stdout",
     "output_type": "stream",
     "text": [
      "+--------------------+------+\n",
      "|                page| count|\n",
      "+--------------------+------+\n",
      "|              Cancel|    52|\n",
      "|    Submit Downgrade|    63|\n",
      "|         Thumbs Down|  2546|\n",
      "|                Home| 10082|\n",
      "|           Downgrade|  2055|\n",
      "|         Roll Advert|  3933|\n",
      "|              Logout|  3226|\n",
      "|       Save Settings|   310|\n",
      "|Cancellation Conf...|    52|\n",
      "|               About|   495|\n",
      "|            Settings|  1514|\n",
      "|     Add to Playlist|  6526|\n",
      "|          Add Friend|  4277|\n",
      "|            NextSong|228108|\n",
      "|           Thumbs Up| 12551|\n",
      "|                Help|  1454|\n",
      "|             Upgrade|   499|\n",
      "|               Error|   252|\n",
      "|      Submit Upgrade|   159|\n",
      "+--------------------+------+\n",
      "\n"
     ]
    }
   ],
   "source": [
    "df.groupBy(df.page).count().show()"
   ]
  },
  {
   "cell_type": "code",
   "execution_count": 12,
   "metadata": {},
   "outputs": [
    {
     "name": "stdout",
     "output_type": "stream",
     "text": [
      "Number who confirmed cancellation: 52\n",
      "+------+-----+\n",
      "|gender|count|\n",
      "+------+-----+\n",
      "|     F|   20|\n",
      "|     M|   32|\n",
      "+------+-----+\n",
      "\n"
     ]
    }
   ],
   "source": [
    "print(f\"Number who confirmed cancellation: {df.where(df.page=='Cancellation Confirmation') \\\n",
    "    .count()}\")\n",
    "df.where(df.page=='Cancellation Confirmation') \\\n",
    "    .groupBy('gender')\\\n",
    "    .count() \\\n",
    "    .show()"
   ]
  },
  {
   "cell_type": "code",
   "execution_count": 13,
   "metadata": {},
   "outputs": [
    {
     "data": {
      "text/plain": [
       "278154"
      ]
     },
     "execution_count": 13,
     "metadata": {},
     "output_type": "execute_result"
    }
   ],
   "source": [
    "df.count()"
   ]
  },
  {
   "cell_type": "code",
   "execution_count": 14,
   "metadata": {},
   "outputs": [
    {
     "data": {
      "text/plain": [
       "225"
      ]
     },
     "execution_count": 14,
     "metadata": {},
     "output_type": "execute_result"
    }
   ],
   "source": [
    "df.select('userId').distinct().count()"
   ]
  },
  {
   "cell_type": "code",
   "execution_count": 15,
   "metadata": {},
   "outputs": [
    {
     "name": "stdout",
     "output_type": "stream",
     "text": [
      "['artist', 'auth', 'firstName', 'gender', 'itemInSession', 'lastName', 'length', 'level', 'location', 'method', 'page', 'registration', 'sessionId', 'song', 'status', 'ts', 'userAgent', 'userId']\n"
     ]
    }
   ],
   "source": [
    "print(df.columns)"
   ]
  },
  {
   "cell_type": "code",
   "execution_count": 16,
   "metadata": {
    "collapsed": true
   },
   "outputs": [],
   "source": [
    "df = df.withColumn('datetime',f.from_unixtime(df.ts/1000))"
   ]
  },
  {
   "cell_type": "code",
   "execution_count": 17,
   "metadata": {},
   "outputs": [
    {
     "data": {
      "text/plain": [
       "Row(artist='Martha Tilston', auth='Logged In', firstName='Colin', gender='M', itemInSession=50, lastName='Freeman', length=277.89016, level='paid', location='Bakersfield, CA', method='PUT', page='NextSong', registration=1538173362000, sessionId=29, song='Rockpools', status=200, ts=1538352117000, userAgent='Mozilla/5.0 (Windows NT 6.1; WOW64; rv:31.0) Gecko/20100101 Firefox/31.0', userId='30', datetime='2018-09-30 19:01:57')"
      ]
     },
     "execution_count": 17,
     "metadata": {},
     "output_type": "execute_result"
    }
   ],
   "source": [
    "df.head()"
   ]
  },
  {
   "cell_type": "markdown",
   "metadata": {},
   "source": [
    "### Defining *Churn*\n",
    "For now, we'll define *churn* as those who reach the \"Cancellation Confirmation\" Page."
   ]
  },
  {
   "cell_type": "code",
   "execution_count": 18,
   "metadata": {
    "collapsed": true
   },
   "outputs": [],
   "source": [
    "churns = list(df.where(df.page=='Cancellation Confirmation').select('userId').toPandas()['userId'])"
   ]
  },
  {
   "cell_type": "code",
   "execution_count": 19,
   "metadata": {
    "collapsed": true
   },
   "outputs": [],
   "source": [
    "churns = set([int(x) for x in churns])"
   ]
  },
  {
   "cell_type": "code",
   "execution_count": 20,
   "metadata": {},
   "outputs": [
    {
     "name": "stdout",
     "output_type": "stream",
     "text": [
      "{129, 3, 12, 143, 17, 18, 28, 29, 32, 100001, 100003, 100005, 100006, 100007, 100009, 100011, 100012, 100013, 100014, 100015, 100017, 51, 100019, 53, 54, 100023, 100024, 100025, 58, 100022, 100021, 200001, 70, 73, 200011, 200015, 200016, 200017, 200018, 200020, 200021, 87, 200024, 300001, 101, 103, 300007, 105, 106, 121, 122, 125}\n"
     ]
    }
   ],
   "source": [
    "print(churns)"
   ]
  },
  {
   "cell_type": "code",
   "execution_count": 21,
   "metadata": {
    "collapsed": true
   },
   "outputs": [],
   "source": [
    "flag_churn = f.udf(lambda x: 1 if int(x) in churns else 0, IntegerType())"
   ]
  },
  {
   "cell_type": "code",
   "execution_count": 22,
   "metadata": {
    "collapsed": true
   },
   "outputs": [],
   "source": [
    "df = df.withColumn('churns', flag_churn(df.userId))"
   ]
  },
  {
   "cell_type": "code",
   "execution_count": 23,
   "metadata": {},
   "outputs": [
    {
     "data": {
      "text/plain": [
       "Row(artist='Martha Tilston', auth='Logged In', firstName='Colin', gender='M', itemInSession=50, lastName='Freeman', length=277.89016, level='paid', location='Bakersfield, CA', method='PUT', page='NextSong', registration=1538173362000, sessionId=29, song='Rockpools', status=200, ts=1538352117000, userAgent='Mozilla/5.0 (Windows NT 6.1; WOW64; rv:31.0) Gecko/20100101 Firefox/31.0', userId='30', datetime='2018-09-30 19:01:57', churns=0)"
      ]
     },
     "execution_count": 23,
     "metadata": {},
     "output_type": "execute_result"
    }
   ],
   "source": [
    "df.head()"
   ]
  },
  {
   "cell_type": "markdown",
   "metadata": {},
   "source": [
    "## Examining page visits between users who 'churn' and users who don't\n",
    "Particular page view stats might provide insight into users who 'churn'"
   ]
  },
  {
   "cell_type": "code",
   "execution_count": 24,
   "metadata": {
    "collapsed": true
   },
   "outputs": [],
   "source": [
    "num_churn = df.where(df.churns==1).select('userId').distinct().count()"
   ]
  },
  {
   "cell_type": "code",
   "execution_count": 25,
   "metadata": {
    "collapsed": true
   },
   "outputs": [],
   "source": [
    "num_stay = df.where(df.churns==0).select('userId').distinct().count()"
   ]
  },
  {
   "cell_type": "code",
   "execution_count": 26,
   "metadata": {
    "collapsed": true
   },
   "outputs": [],
   "source": [
    "total = df.select('userId').distinct().count()"
   ]
  },
  {
   "cell_type": "code",
   "execution_count": 27,
   "metadata": {},
   "outputs": [
    {
     "data": {
      "text/plain": [
       "(52, 173, 225)"
      ]
     },
     "execution_count": 27,
     "metadata": {},
     "output_type": "execute_result"
    }
   ],
   "source": [
    "#amounts in each group\n",
    "num_churn, num_stay, total"
   ]
  },
  {
   "cell_type": "code",
   "execution_count": 28,
   "metadata": {},
   "outputs": [
    {
     "data": {
      "text/html": [
       "<div>\n",
       "<style>\n",
       "    .dataframe thead tr:only-child th {\n",
       "        text-align: right;\n",
       "    }\n",
       "\n",
       "    .dataframe thead th {\n",
       "        text-align: left;\n",
       "    }\n",
       "\n",
       "    .dataframe tbody tr th {\n",
       "        vertical-align: top;\n",
       "    }\n",
       "</style>\n",
       "<table border=\"1\" class=\"dataframe\">\n",
       "  <thead>\n",
       "    <tr style=\"text-align: right;\">\n",
       "      <th></th>\n",
       "      <th>churns_page</th>\n",
       "      <th>About</th>\n",
       "      <th>Add Friend</th>\n",
       "      <th>Add to Playlist</th>\n",
       "      <th>Cancel</th>\n",
       "      <th>Cancellation Confirmation</th>\n",
       "      <th>Downgrade</th>\n",
       "      <th>Error</th>\n",
       "      <th>Help</th>\n",
       "      <th>Home</th>\n",
       "      <th>Logout</th>\n",
       "      <th>NextSong</th>\n",
       "      <th>Roll Advert</th>\n",
       "      <th>Save Settings</th>\n",
       "      <th>Settings</th>\n",
       "      <th>Submit Downgrade</th>\n",
       "      <th>Submit Upgrade</th>\n",
       "      <th>Thumbs Down</th>\n",
       "      <th>Thumbs Up</th>\n",
       "      <th>Upgrade</th>\n",
       "    </tr>\n",
       "  </thead>\n",
       "  <tbody>\n",
       "    <tr>\n",
       "      <th>0</th>\n",
       "      <td>1</td>\n",
       "      <td>56</td>\n",
       "      <td>636</td>\n",
       "      <td>1038</td>\n",
       "      <td>52</td>\n",
       "      <td>52</td>\n",
       "      <td>337</td>\n",
       "      <td>32</td>\n",
       "      <td>239</td>\n",
       "      <td>1672</td>\n",
       "      <td>553</td>\n",
       "      <td>36394</td>\n",
       "      <td>967</td>\n",
       "      <td>58</td>\n",
       "      <td>270</td>\n",
       "      <td>9</td>\n",
       "      <td>32</td>\n",
       "      <td>496</td>\n",
       "      <td>1859</td>\n",
       "      <td>112</td>\n",
       "    </tr>\n",
       "    <tr>\n",
       "      <th>1</th>\n",
       "      <td>0</td>\n",
       "      <td>439</td>\n",
       "      <td>3641</td>\n",
       "      <td>5488</td>\n",
       "      <td>0</td>\n",
       "      <td>0</td>\n",
       "      <td>1718</td>\n",
       "      <td>220</td>\n",
       "      <td>1215</td>\n",
       "      <td>8410</td>\n",
       "      <td>2673</td>\n",
       "      <td>191714</td>\n",
       "      <td>2966</td>\n",
       "      <td>252</td>\n",
       "      <td>1244</td>\n",
       "      <td>54</td>\n",
       "      <td>127</td>\n",
       "      <td>2050</td>\n",
       "      <td>10692</td>\n",
       "      <td>387</td>\n",
       "    </tr>\n",
       "  </tbody>\n",
       "</table>\n",
       "</div>"
      ],
      "text/plain": [
       "  churns_page  About  Add Friend  Add to Playlist  Cancel  \\\n",
       "0           1     56         636             1038      52   \n",
       "1           0    439        3641             5488       0   \n",
       "\n",
       "   Cancellation Confirmation  Downgrade  Error  Help  Home  Logout  NextSong  \\\n",
       "0                         52        337     32   239  1672     553     36394   \n",
       "1                          0       1718    220  1215  8410    2673    191714   \n",
       "\n",
       "   Roll Advert  Save Settings  Settings  Submit Downgrade  Submit Upgrade  \\\n",
       "0          967             58       270                 9              32   \n",
       "1         2966            252      1244                54             127   \n",
       "\n",
       "   Thumbs Down  Thumbs Up  Upgrade  \n",
       "0          496       1859      112  \n",
       "1         2050      10692      387  "
      ]
     },
     "execution_count": 28,
     "metadata": {},
     "output_type": "execute_result"
    }
   ],
   "source": [
    "#raw data for users who churn and don't, toPandas for visualization purposes later\n",
    "churns_comp_df = df.crosstab('churns','page').toPandas()\n",
    "churns_comp_df"
   ]
  },
  {
   "cell_type": "code",
   "execution_count": 29,
   "metadata": {
    "collapsed": true
   },
   "outputs": [],
   "source": [
    "#normalize data to per user numbers\n",
    "churns_comp_df['churns_page'] = pd.to_numeric(churns_comp_df['churns_page'])"
   ]
  },
  {
   "cell_type": "code",
   "execution_count": 30,
   "metadata": {
    "collapsed": true
   },
   "outputs": [],
   "source": [
    "churns_comp_df.values[0] = churns_comp_df.values[0]/num_churn"
   ]
  },
  {
   "cell_type": "code",
   "execution_count": 31,
   "metadata": {
    "collapsed": true
   },
   "outputs": [],
   "source": [
    "churns_comp_df.values[1] = churns_comp_df.values[1]/num_stay"
   ]
  },
  {
   "cell_type": "code",
   "execution_count": 32,
   "metadata": {
    "collapsed": true
   },
   "outputs": [],
   "source": [
    "#reinsert binary for churning and not (floor division removes the in the churns_page column)\n",
    "churns_comp_df['churns_page'] = [1,0]"
   ]
  },
  {
   "cell_type": "code",
   "execution_count": 33,
   "metadata": {
    "scrolled": true
   },
   "outputs": [
    {
     "data": {
      "text/html": [
       "<div>\n",
       "<style>\n",
       "    .dataframe thead tr:only-child th {\n",
       "        text-align: right;\n",
       "    }\n",
       "\n",
       "    .dataframe thead th {\n",
       "        text-align: left;\n",
       "    }\n",
       "\n",
       "    .dataframe tbody tr th {\n",
       "        vertical-align: top;\n",
       "    }\n",
       "</style>\n",
       "<table border=\"1\" class=\"dataframe\">\n",
       "  <thead>\n",
       "    <tr style=\"text-align: right;\">\n",
       "      <th></th>\n",
       "      <th>churns_page</th>\n",
       "      <th>About</th>\n",
       "      <th>Add Friend</th>\n",
       "      <th>Add to Playlist</th>\n",
       "      <th>Cancel</th>\n",
       "      <th>Cancellation Confirmation</th>\n",
       "      <th>Downgrade</th>\n",
       "      <th>Error</th>\n",
       "      <th>Help</th>\n",
       "      <th>Home</th>\n",
       "      <th>Logout</th>\n",
       "      <th>NextSong</th>\n",
       "      <th>Roll Advert</th>\n",
       "      <th>Save Settings</th>\n",
       "      <th>Settings</th>\n",
       "      <th>Submit Downgrade</th>\n",
       "      <th>Submit Upgrade</th>\n",
       "      <th>Thumbs Down</th>\n",
       "      <th>Thumbs Up</th>\n",
       "      <th>Upgrade</th>\n",
       "    </tr>\n",
       "  </thead>\n",
       "  <tbody>\n",
       "    <tr>\n",
       "      <th>0</th>\n",
       "      <td>1</td>\n",
       "      <td>1</td>\n",
       "      <td>12</td>\n",
       "      <td>19</td>\n",
       "      <td>1</td>\n",
       "      <td>1</td>\n",
       "      <td>6</td>\n",
       "      <td>0</td>\n",
       "      <td>4</td>\n",
       "      <td>32</td>\n",
       "      <td>10</td>\n",
       "      <td>699</td>\n",
       "      <td>18</td>\n",
       "      <td>1</td>\n",
       "      <td>5</td>\n",
       "      <td>0</td>\n",
       "      <td>0</td>\n",
       "      <td>9</td>\n",
       "      <td>35</td>\n",
       "      <td>2</td>\n",
       "    </tr>\n",
       "    <tr>\n",
       "      <th>1</th>\n",
       "      <td>0</td>\n",
       "      <td>2</td>\n",
       "      <td>21</td>\n",
       "      <td>31</td>\n",
       "      <td>0</td>\n",
       "      <td>0</td>\n",
       "      <td>9</td>\n",
       "      <td>1</td>\n",
       "      <td>7</td>\n",
       "      <td>48</td>\n",
       "      <td>15</td>\n",
       "      <td>1108</td>\n",
       "      <td>17</td>\n",
       "      <td>1</td>\n",
       "      <td>7</td>\n",
       "      <td>0</td>\n",
       "      <td>0</td>\n",
       "      <td>11</td>\n",
       "      <td>61</td>\n",
       "      <td>2</td>\n",
       "    </tr>\n",
       "  </tbody>\n",
       "</table>\n",
       "</div>"
      ],
      "text/plain": [
       "   churns_page  About  Add Friend  Add to Playlist  Cancel  \\\n",
       "0            1      1          12               19       1   \n",
       "1            0      2          21               31       0   \n",
       "\n",
       "   Cancellation Confirmation  Downgrade  Error  Help  Home  Logout  NextSong  \\\n",
       "0                          1          6      0     4    32      10       699   \n",
       "1                          0          9      1     7    48      15      1108   \n",
       "\n",
       "   Roll Advert  Save Settings  Settings  Submit Downgrade  Submit Upgrade  \\\n",
       "0           18              1         5                 0               0   \n",
       "1           17              1         7                 0               0   \n",
       "\n",
       "   Thumbs Down  Thumbs Up  Upgrade  \n",
       "0            9         35        2  \n",
       "1           11         61        2  "
      ]
     },
     "execution_count": 33,
     "metadata": {},
     "output_type": "execute_result"
    }
   ],
   "source": [
    "#Average Stats per user\n",
    "churns_comp_df"
   ]
  },
  {
   "cell_type": "code",
   "execution_count": 34,
   "metadata": {
    "collapsed": true
   },
   "outputs": [],
   "source": [
    "#DO SOMETHING LIKE THIS\n",
    "# from https://stackoverflow.com/questions/28576540/how-can-i-normalize-the-data-in-a-range-of-columns-in-my-pandas-dataframe\n",
    "# cols_to_norm = ['Age','Height']\n",
    "# survey_data[cols_to_norm] = survey_data[cols_to_norm].apply(lambda x: (x - x.min()) / (x.max() - x.min()))"
   ]
  },
  {
   "cell_type": "code",
   "execution_count": 35,
   "metadata": {
    "collapsed": true
   },
   "outputs": [],
   "source": [
    "#Normalize columns\n",
    "cols_to_norm = ['About','Add Friend', 'Add to Playlist', 'Downgrade', 'Help', 'Home', 'Logout', \n",
    "                'NextSong', 'Roll Advert', 'Save Settings', 'Settings', 'Thumbs Down', 'Thumbs Up', 'Upgrade']\n",
    "churns_comp_df[cols_to_norm] = churns_comp_df[cols_to_norm].apply(lambda x: x / x.sum())\n"
   ]
  },
  {
   "cell_type": "code",
   "execution_count": 36,
   "metadata": {},
   "outputs": [
    {
     "data": {
      "text/html": [
       "<div>\n",
       "<style>\n",
       "    .dataframe thead tr:only-child th {\n",
       "        text-align: right;\n",
       "    }\n",
       "\n",
       "    .dataframe thead th {\n",
       "        text-align: left;\n",
       "    }\n",
       "\n",
       "    .dataframe tbody tr th {\n",
       "        vertical-align: top;\n",
       "    }\n",
       "</style>\n",
       "<table border=\"1\" class=\"dataframe\">\n",
       "  <thead>\n",
       "    <tr style=\"text-align: right;\">\n",
       "      <th></th>\n",
       "      <th>churns_page</th>\n",
       "      <th>About</th>\n",
       "      <th>Add Friend</th>\n",
       "      <th>Add to Playlist</th>\n",
       "      <th>Cancel</th>\n",
       "      <th>Cancellation Confirmation</th>\n",
       "      <th>Downgrade</th>\n",
       "      <th>Error</th>\n",
       "      <th>Help</th>\n",
       "      <th>Home</th>\n",
       "      <th>Logout</th>\n",
       "      <th>NextSong</th>\n",
       "      <th>Roll Advert</th>\n",
       "      <th>Save Settings</th>\n",
       "      <th>Settings</th>\n",
       "      <th>Submit Downgrade</th>\n",
       "      <th>Submit Upgrade</th>\n",
       "      <th>Thumbs Down</th>\n",
       "      <th>Thumbs Up</th>\n",
       "      <th>Upgrade</th>\n",
       "    </tr>\n",
       "  </thead>\n",
       "  <tbody>\n",
       "    <tr>\n",
       "      <th>0</th>\n",
       "      <td>1</td>\n",
       "      <td>0.333333</td>\n",
       "      <td>0.363636</td>\n",
       "      <td>0.38</td>\n",
       "      <td>1</td>\n",
       "      <td>1</td>\n",
       "      <td>0.4</td>\n",
       "      <td>0</td>\n",
       "      <td>0.363636</td>\n",
       "      <td>0.4</td>\n",
       "      <td>0.4</td>\n",
       "      <td>0.386829</td>\n",
       "      <td>0.514286</td>\n",
       "      <td>0.5</td>\n",
       "      <td>0.416667</td>\n",
       "      <td>0</td>\n",
       "      <td>0</td>\n",
       "      <td>0.45</td>\n",
       "      <td>0.364583</td>\n",
       "      <td>0.5</td>\n",
       "    </tr>\n",
       "    <tr>\n",
       "      <th>1</th>\n",
       "      <td>0</td>\n",
       "      <td>0.666667</td>\n",
       "      <td>0.636364</td>\n",
       "      <td>0.62</td>\n",
       "      <td>0</td>\n",
       "      <td>0</td>\n",
       "      <td>0.6</td>\n",
       "      <td>1</td>\n",
       "      <td>0.636364</td>\n",
       "      <td>0.6</td>\n",
       "      <td>0.6</td>\n",
       "      <td>0.613171</td>\n",
       "      <td>0.485714</td>\n",
       "      <td>0.5</td>\n",
       "      <td>0.583333</td>\n",
       "      <td>0</td>\n",
       "      <td>0</td>\n",
       "      <td>0.55</td>\n",
       "      <td>0.635417</td>\n",
       "      <td>0.5</td>\n",
       "    </tr>\n",
       "  </tbody>\n",
       "</table>\n",
       "</div>"
      ],
      "text/plain": [
       "   churns_page     About  Add Friend  Add to Playlist  Cancel  \\\n",
       "0            1  0.333333    0.363636             0.38       1   \n",
       "1            0  0.666667    0.636364             0.62       0   \n",
       "\n",
       "   Cancellation Confirmation  Downgrade  Error      Help  Home  Logout  \\\n",
       "0                          1        0.4      0  0.363636   0.4     0.4   \n",
       "1                          0        0.6      1  0.636364   0.6     0.6   \n",
       "\n",
       "   NextSong  Roll Advert  Save Settings  Settings  Submit Downgrade  \\\n",
       "0  0.386829     0.514286            0.5  0.416667                 0   \n",
       "1  0.613171     0.485714            0.5  0.583333                 0   \n",
       "\n",
       "   Submit Upgrade  Thumbs Down  Thumbs Up  Upgrade  \n",
       "0               0         0.45   0.364583      0.5  \n",
       "1               0         0.55   0.635417      0.5  "
      ]
     },
     "execution_count": 36,
     "metadata": {},
     "output_type": "execute_result"
    }
   ],
   "source": [
    "churns_comp_df"
   ]
  },
  {
   "cell_type": "code",
   "execution_count": 37,
   "metadata": {
    "collapsed": true
   },
   "outputs": [],
   "source": [
    "#adjusting figures with matplotlib\n",
    "#https://stackoverflow.com/questions/332289/how-do-you-change-the-size-of-figures-drawn-with-matplotlib?answertab=active#tab-top\n",
    "#the format below allows one change for all plots\n",
    "plt.rcParams[\"figure.figsize\"] = (15,5)"
   ]
  },
  {
   "cell_type": "code",
   "execution_count": 38,
   "metadata": {
    "collapsed": true
   },
   "outputs": [],
   "source": [
    "non_bin_columns = churns_comp_df[(churns_comp_df != 1) & (churns_comp_df != 0)].loc[0].dropna().index"
   ]
  },
  {
   "cell_type": "code",
   "execution_count": 39,
   "metadata": {},
   "outputs": [
    {
     "data": {
      "image/png": "[encoded data removed]",
      "text/plain": [
       "<Figure size 1080x360 with 1 Axes>"
      ]
     },
     "metadata": {},
     "output_type": "display_data"
    }
   ],
   "source": [
    "churn = plt.bar(x=[x*2-0.5 for x in range(0,len(non_bin_columns))],height=churns_comp_df[non_bin_columns].loc[0], width=0.5, label='churn')\n",
    "stay = plt.bar(x=[x*2 for x in range(0,len(non_bin_columns))],height=churns_comp_df[non_bin_columns].loc[1], width=0.5, label='stay')\n",
    "plt.xticks([x*2-0.25 for x in range(0,len(non_bin_columns))],non_bin_columns,rotation=75);\n",
    "plt.title('Comparison of Sparkify use by Churn/Non-churn users');\n",
    "plt.legend(handles=[churn,stay])\n",
    "plt.show()"
   ]
  },
  {
   "cell_type": "markdown",
   "metadata": {},
   "source": [
    "## Observations\n",
    "\"Cancellation Confirmation\" being 1 for the churn row and 0 for the non-churn row affirms that the normalization was done correctly. Quick observations show that those who didn't churn were generally more 'hands on.' They visited the \"NextSong\" page over 50% more than those who did churn. They visited settings slightly more, the home page, and added almost twice as many friends. Those who didn't churn also hit the \"thumbs up\" nearly twice as much, likely allowing Sparkify to better match songs for the user.\n",
    "\n",
    "Unfortunately, users who churned received slightly more ads even with decreased use. This may be part of the problem."
   ]
  },
  {
   "cell_type": "markdown",
   "metadata": {},
   "source": [
    "# More specific *churn* definition\n",
    "Given that we have timestamps available and can easily determine which users downgraded their service, the ML will be better suited with less sparse data on users who \"churn.\" For example, calculating statistics and still only having 1 row per user indicating 'churn' gives us 225 out of 278154 rows to use as positively labeled rows in ML. It might be more useful to have \"dowgrades in 48 hours\" be our church definition. This allows for more rows, and it would be a step closer to providing a possible intervention window for Sparkify, allowing them to take steps to avoid losing the user from paid service."
   ]
  },
  {
   "cell_type": "code",
   "execution_count": 40,
   "metadata": {
    "collapsed": true
   },
   "outputs": [],
   "source": [
    "df = df.withColumn('CancelTime',f.when(df['page'] == 'Cancellation Confirmation', df['ts']).otherwise(None))"
   ]
  },
  {
   "cell_type": "code",
   "execution_count": 42,
   "metadata": {},
   "outputs": [
    {
     "name": "stdout",
     "output_type": "stream",
     "text": [
      "+-------------+\n",
      "|   CancelTime|\n",
      "+-------------+\n",
      "|1542051608000|\n",
      "|1542472842000|\n",
      "|1541746863000|\n",
      "|1540223006000|\n",
      "|1541184816000|\n",
      "|1541100900000|\n",
      "|1543073753000|\n",
      "|         null|\n",
      "|1538943990000|\n",
      "|1542356278000|\n",
      "|1541120964000|\n",
      "|1542630896000|\n",
      "|1539588854000|\n",
      "|1539761972000|\n",
      "|1538417085000|\n",
      "|1542234867000|\n",
      "|1542181031000|\n",
      "|1538695038000|\n",
      "|1539274781000|\n",
      "|1538953071000|\n",
      "+-------------+\n",
      "only showing top 20 rows\n",
      "\n"
     ]
    }
   ],
   "source": [
    "df.select('CancelTime').distinct().show()"
   ]
  },
  {
   "cell_type": "code",
   "execution_count": 43,
   "metadata": {},
   "outputs": [
    {
     "name": "stdout",
     "output_type": "stream",
     "text": [
      "+------+--------------------+------+-------------+-------------------+-------------+\n",
      "|userId|                page|churns|           ts|           datetime|   CancelTime|\n",
      "+------+--------------------+------+-------------+-------------------+-------------+\n",
      "|    18|Cancellation Conf...|     1|1538943990000|2018-10-07 15:26:30|1538943990000|\n",
      "|    32|Cancellation Conf...|     1|1539033046000|2018-10-08 16:10:46|1539033046000|\n",
      "|   125|Cancellation Conf...|     1|1539318918000|2018-10-11 23:35:18|1539318918000|\n",
      "|   105|Cancellation Conf...|     1|1539375441000|2018-10-12 15:17:21|1539375441000|\n",
      "|    17|Cancellation Conf...|     1|1539465584000|2018-10-13 16:19:44|1539465584000|\n",
      "|   143|Cancellation Conf...|     1|1539588854000|2018-10-15 02:34:14|1539588854000|\n",
      "|   101|Cancellation Conf...|     1|1539729037000|2018-10-16 17:30:37|1539729037000|\n",
      "|   129|Cancellation Conf...|     1|1539736161000|2018-10-16 19:29:21|1539736161000|\n",
      "|   121|Cancellation Conf...|     1|1539759749000|2018-10-17 02:02:29|1539759749000|\n",
      "|    51|Cancellation Conf...|     1|1539761972000|2018-10-17 02:39:32|1539761972000|\n",
      "|    87|Cancellation Conf...|     1|1540050556000|2018-10-20 10:49:16|1540050556000|\n",
      "|   122|Cancellation Conf...|     1|1540062068000|2018-10-20 14:01:08|1540062068000|\n",
      "|    12|Cancellation Conf...|     1|1540193374000|2018-10-22 02:29:34|1540193374000|\n",
      "|    58|Cancellation Conf...|     1|1540223006000|2018-10-22 10:43:26|1540223006000|\n",
      "|    73|Cancellation Conf...|     1|1540402387000|2018-10-24 12:33:07|1540402387000|\n",
      "|     3|Cancellation Conf...|     1|1540875543000|2018-10-29 23:59:03|1540875543000|\n",
      "|   106|Cancellation Conf...|     1|1541166424000|2018-11-02 08:47:04|1541166424000|\n",
      "|   103|Cancellation Conf...|     1|1541340091000|2018-11-04 08:01:31|1541340091000|\n",
      "|    28|Cancellation Conf...|     1|1541463632000|2018-11-05 18:20:32|1541463632000|\n",
      "|    54|Cancellation Conf...|     1|1542051608000|2018-11-12 13:40:08|1542051608000|\n",
      "+------+--------------------+------+-------------+-------------------+-------------+\n",
      "only showing top 20 rows\n",
      "\n"
     ]
    }
   ],
   "source": [
    "df.select('userId','page','churns','ts','datetime','CancelTime').\\\n",
    "        where(df.CancelTime.isNotNull()).\\\n",
    "        show(20)"
   ]
  },
  {
   "cell_type": "code",
   "execution_count": 44,
   "metadata": {
    "collapsed": true
   },
   "outputs": [],
   "source": [
    "all_time = w.partitionBy('userId')\\\n",
    "                .orderBy('ts')\\\n",
    "                .rangeBetween(Window.unboundedPreceding,Window.unboundedFollowing)\n",
    "# df = df.withColumn('lead',f.lag('CancelTime').over(the_window))"
   ]
  },
  {
   "cell_type": "code",
   "execution_count": 45,
   "metadata": {
    "collapsed": true
   },
   "outputs": [],
   "source": [
    "# define the forward-filled column\n",
    "filled_column = f.last(df['CancelTime']).over(all_time)\n",
    "\n",
    "# do the fill\n",
    "df = df.withColumn('Cancel_Time', filled_column)"
   ]
  },
  {
   "cell_type": "code",
   "execution_count": 46,
   "metadata": {},
   "outputs": [
    {
     "name": "stdout",
     "output_type": "stream",
     "text": [
      "+-------------+------+-------------+------+-------------+\n",
      "|  Cancel_Time|churns|           ts|userId|   CancelTime|\n",
      "+-------------+------+-------------+------+-------------+\n",
      "|1539318918000|     1|1539317144000|   125|         null|\n",
      "|1539318918000|     1|1539317481000|   125|         null|\n",
      "|1539318918000|     1|1539317711000|   125|         null|\n",
      "|1539318918000|     1|1539317914000|   125|         null|\n",
      "|1539318918000|     1|1539318124000|   125|         null|\n",
      "|1539318918000|     1|1539318515000|   125|         null|\n",
      "|1539318918000|     1|1539318728000|   125|         null|\n",
      "|1539318918000|     1|1539318906000|   125|         null|\n",
      "|1539318918000|     1|1539318917000|   125|         null|\n",
      "|1539318918000|     1|1539318918000|   125|         null|\n",
      "|1539318918000|     1|1539318918000|   125|1539318918000|\n",
      "|1539761972000|     1|1538398632000|    51|         null|\n",
      "|1539761972000|     1|1538398649000|    51|         null|\n",
      "|1539761972000|     1|1538398938000|    51|         null|\n",
      "|1539761972000|     1|1538399167000|    51|         null|\n",
      "|1539761972000|     1|1538399351000|    51|         null|\n",
      "|1539761972000|     1|1538399495000|    51|         null|\n",
      "|1539761972000|     1|1538399843000|    51|         null|\n",
      "|1539761972000|     1|1538400086000|    51|         null|\n",
      "|1539761972000|     1|1538400309000|    51|         null|\n",
      "+-------------+------+-------------+------+-------------+\n",
      "only showing top 20 rows\n",
      "\n"
     ]
    }
   ],
   "source": [
    "df.select('Cancel_Time','churns','ts','userId','CancelTime').where(df.churns==1).show()"
   ]
  },
  {
   "cell_type": "code",
   "execution_count": 47,
   "metadata": {
    "collapsed": true
   },
   "outputs": [],
   "source": [
    "df = df.drop('CancelTime')"
   ]
  },
  {
   "cell_type": "code",
   "execution_count": 49,
   "metadata": {
    "collapsed": true
   },
   "outputs": [],
   "source": [
    "df = df.withColumn('Until_Cancel',df.Cancel_Time - df.ts)"
   ]
  },
  {
   "cell_type": "code",
   "execution_count": 50,
   "metadata": {},
   "outputs": [
    {
     "data": {
      "text/plain": [
       "Row(artist='Sleeping With Sirens', auth='Logged In', firstName='Darianna', gender='F', itemInSession=0, lastName='Carpenter', length=202.97098, level='free', location='Bridgeport-Stamford-Norwalk, CT', method='PUT', page='NextSong', registration=1538016340000, sessionId=31, song='Captain Tyin Knots VS Mr Walkway (No Way)', status=200, ts=1539003534000, userAgent='\"Mozilla/5.0 (iPhone; CPU iPhone OS 7_1_2 like Mac OS X) AppleWebKit/537.51.2 (KHTML, like Gecko) Version/7.0 Mobile/11D257 Safari/9537.53\"', userId='100010', datetime='2018-10-08 07:58:54', churns=0, Cancel_Time=None, Until_Cancel=None)"
      ]
     },
     "execution_count": 50,
     "metadata": {},
     "output_type": "execute_result"
    }
   ],
   "source": [
    "df.head()"
   ]
  },
  {
   "cell_type": "code",
   "execution_count": 51,
   "metadata": {},
   "outputs": [
    {
     "name": "stdout",
     "output_type": "stream",
     "text": [
      "+------+--------------------+-------------+------------+\n",
      "|userId|                page|  Cancel_time|Until_Cancel|\n",
      "+------+--------------------+-------------+------------+\n",
      "|   125|            NextSong|1539318918000|     1774000|\n",
      "|   125|            NextSong|1539318918000|     1437000|\n",
      "|   125|            NextSong|1539318918000|     1207000|\n",
      "|   125|            NextSong|1539318918000|     1004000|\n",
      "|   125|            NextSong|1539318918000|      794000|\n",
      "|   125|            NextSong|1539318918000|      403000|\n",
      "|   125|            NextSong|1539318918000|      190000|\n",
      "|   125|            NextSong|1539318918000|       12000|\n",
      "|   125|         Roll Advert|1539318918000|        1000|\n",
      "|   125|              Cancel|1539318918000|           0|\n",
      "|   125|Cancellation Conf...|1539318918000|           0|\n",
      "|    51|                Home|1539761972000|  1363340000|\n",
      "|    51|            NextSong|1539761972000|  1363323000|\n",
      "|    51|            NextSong|1539761972000|  1363034000|\n",
      "|    51|            NextSong|1539761972000|  1362805000|\n",
      "|    51|            NextSong|1539761972000|  1362621000|\n",
      "|    51|            NextSong|1539761972000|  1362477000|\n",
      "|    51|            NextSong|1539761972000|  1362129000|\n",
      "|    51|            NextSong|1539761972000|  1361886000|\n",
      "|    51|            NextSong|1539761972000|  1361663000|\n",
      "+------+--------------------+-------------+------------+\n",
      "only showing top 20 rows\n",
      "\n"
     ]
    }
   ],
   "source": [
    "df.select('userId','page','Cancel_time','Until_Cancel').where(df.churns==1).show(20)"
   ]
  },
  {
   "cell_type": "code",
   "execution_count": 52,
   "metadata": {
    "collapsed": true
   },
   "outputs": [],
   "source": [
    "df = df.withColumn('CancelDate', f.from_unixtime(df.Cancel_Time/1000))"
   ]
  },
  {
   "cell_type": "code",
   "execution_count": 53,
   "metadata": {
    "collapsed": true
   },
   "outputs": [],
   "source": [
    "check_48 = f.udf(lambda x: 1 if x != None and x <= 172800000 else 0,IntegerType())"
   ]
  },
  {
   "cell_type": "code",
   "execution_count": 54,
   "metadata": {
    "collapsed": true
   },
   "outputs": [],
   "source": [
    "df = df.withColumn('CancelIn48',check_48(df.Until_Cancel))"
   ]
  },
  {
   "cell_type": "code",
   "execution_count": 55,
   "metadata": {},
   "outputs": [
    {
     "data": {
      "text/plain": [
       "6798"
      ]
     },
     "execution_count": 55,
     "metadata": {},
     "output_type": "execute_result"
    }
   ],
   "source": [
    "df.select('userId').where(df.CancelIn48==1).count()"
   ]
  },
  {
   "cell_type": "code",
   "execution_count": 56,
   "metadata": {},
   "outputs": [
    {
     "name": "stdout",
     "output_type": "stream",
     "text": [
      "+------+-----+-------------------+-------------+-------------------+------------+----------+\n",
      "|userId|level|           datetime|  Cancel_Time|         CancelDate|Until_Cancel|CancelIn48|\n",
      "+------+-----+-------------------+-------------+-------------------+------------+----------+\n",
      "|   125| free|2018-10-11 23:05:44|1539318918000|2018-10-11 23:35:18|     1774000|         1|\n",
      "|   125| free|2018-10-11 23:11:21|1539318918000|2018-10-11 23:35:18|     1437000|         1|\n",
      "|   125| free|2018-10-11 23:15:11|1539318918000|2018-10-11 23:35:18|     1207000|         1|\n",
      "|   125| free|2018-10-11 23:18:34|1539318918000|2018-10-11 23:35:18|     1004000|         1|\n",
      "|   125| free|2018-10-11 23:22:04|1539318918000|2018-10-11 23:35:18|      794000|         1|\n",
      "|   125| free|2018-10-11 23:28:35|1539318918000|2018-10-11 23:35:18|      403000|         1|\n",
      "|   125| free|2018-10-11 23:32:08|1539318918000|2018-10-11 23:35:18|      190000|         1|\n",
      "|   125| free|2018-10-11 23:35:06|1539318918000|2018-10-11 23:35:18|       12000|         1|\n",
      "|   125| free|2018-10-11 23:35:17|1539318918000|2018-10-11 23:35:18|        1000|         1|\n",
      "|   125| free|2018-10-11 23:35:18|1539318918000|2018-10-11 23:35:18|           0|         1|\n",
      "|   125| free|2018-10-11 23:35:18|1539318918000|2018-10-11 23:35:18|           0|         1|\n",
      "|    51| paid|2018-10-15 08:50:55|1539761972000|2018-10-17 02:39:32|   150517000|         1|\n",
      "|    51| paid|2018-10-15 08:54:24|1539761972000|2018-10-17 02:39:32|   150308000|         1|\n",
      "|    51| paid|2018-10-15 08:57:01|1539761972000|2018-10-17 02:39:32|   150151000|         1|\n",
      "|    51| paid|2018-10-15 09:01:42|1539761972000|2018-10-17 02:39:32|   149870000|         1|\n",
      "|    51| paid|2018-10-15 09:06:05|1539761972000|2018-10-17 02:39:32|   149607000|         1|\n",
      "|    51| paid|2018-10-15 09:10:38|1539761972000|2018-10-17 02:39:32|   149334000|         1|\n",
      "|    51| paid|2018-10-15 09:14:34|1539761972000|2018-10-17 02:39:32|   149098000|         1|\n",
      "|    51| paid|2018-10-15 09:18:09|1539761972000|2018-10-17 02:39:32|   148883000|         1|\n",
      "|    51| paid|2018-10-15 09:19:13|1539761972000|2018-10-17 02:39:32|   148819000|         1|\n",
      "|    51| paid|2018-10-15 09:22:04|1539761972000|2018-10-17 02:39:32|   148648000|         1|\n",
      "|    51| paid|2018-10-15 09:27:20|1539761972000|2018-10-17 02:39:32|   148332000|         1|\n",
      "|    51| paid|2018-10-15 09:31:32|1539761972000|2018-10-17 02:39:32|   148080000|         1|\n",
      "|    51| paid|2018-10-15 09:35:45|1539761972000|2018-10-17 02:39:32|   147827000|         1|\n",
      "|    51| paid|2018-10-15 09:39:39|1539761972000|2018-10-17 02:39:32|   147593000|         1|\n",
      "|    51| paid|2018-10-15 09:42:57|1539761972000|2018-10-17 02:39:32|   147395000|         1|\n",
      "|    51| paid|2018-10-15 09:47:38|1539761972000|2018-10-17 02:39:32|   147114000|         1|\n",
      "|    51| paid|2018-10-15 09:50:45|1539761972000|2018-10-17 02:39:32|   146927000|         1|\n",
      "|    51| paid|2018-10-15 09:55:09|1539761972000|2018-10-17 02:39:32|   146663000|         1|\n",
      "|    51| paid|2018-10-15 09:57:23|1539761972000|2018-10-17 02:39:32|   146529000|         1|\n",
      "|    51| paid|2018-10-15 10:01:21|1539761972000|2018-10-17 02:39:32|   146291000|         1|\n",
      "|    51| paid|2018-10-15 10:03:47|1539761972000|2018-10-17 02:39:32|   146145000|         1|\n",
      "|    51| paid|2018-10-15 10:05:55|1539761972000|2018-10-17 02:39:32|   146017000|         1|\n",
      "|    51| paid|2018-10-15 10:14:15|1539761972000|2018-10-17 02:39:32|   145517000|         1|\n",
      "|    51| paid|2018-10-15 10:18:21|1539761972000|2018-10-17 02:39:32|   145271000|         1|\n",
      "|    51| paid|2018-10-15 10:23:32|1539761972000|2018-10-17 02:39:32|   144960000|         1|\n",
      "|    51| paid|2018-10-15 10:27:58|1539761972000|2018-10-17 02:39:32|   144694000|         1|\n",
      "|    51| paid|2018-10-15 10:30:55|1539761972000|2018-10-17 02:39:32|   144517000|         1|\n",
      "|    51| paid|2018-10-15 10:34:20|1539761972000|2018-10-17 02:39:32|   144312000|         1|\n",
      "|    51| paid|2018-10-15 10:37:18|1539761972000|2018-10-17 02:39:32|   144134000|         1|\n",
      "|    51| paid|2018-10-15 10:44:56|1539761972000|2018-10-17 02:39:32|   143676000|         1|\n",
      "|    51| paid|2018-10-15 10:47:44|1539761972000|2018-10-17 02:39:32|   143508000|         1|\n",
      "|    51| paid|2018-10-15 10:51:58|1539761972000|2018-10-17 02:39:32|   143254000|         1|\n",
      "|    51| paid|2018-10-15 10:55:15|1539761972000|2018-10-17 02:39:32|   143057000|         1|\n",
      "|    51| paid|2018-10-15 10:58:13|1539761972000|2018-10-17 02:39:32|   142879000|         1|\n",
      "|    51| paid|2018-10-15 11:03:53|1539761972000|2018-10-17 02:39:32|   142539000|         1|\n",
      "|    51| paid|2018-10-15 11:08:21|1539761972000|2018-10-17 02:39:32|   142271000|         1|\n",
      "|    51| paid|2018-10-15 11:12:05|1539761972000|2018-10-17 02:39:32|   142047000|         1|\n",
      "|    51| paid|2018-10-15 11:16:31|1539761972000|2018-10-17 02:39:32|   141781000|         1|\n",
      "|    51| paid|2018-10-15 11:21:40|1539761972000|2018-10-17 02:39:32|   141472000|         1|\n",
      "+------+-----+-------------------+-------------+-------------------+------------+----------+\n",
      "only showing top 50 rows\n",
      "\n"
     ]
    }
   ],
   "source": [
    "df.select('userId','level','datetime','Cancel_Time','CancelDate','Until_Cancel','CancelIn48').where(df.CancelIn48==1).show(50)"
   ]
  },
  {
   "cell_type": "code",
   "execution_count": 57,
   "metadata": {
    "collapsed": true
   },
   "outputs": [],
   "source": [
    "window_48 = w.partitionBy('userId')\\\n",
    "            .orderBy('ts')\\\n",
    "            .rangeBetween(-172800000,0)\n",
    "window_1_week = w.partitionBy('userId')\\\n",
    "            .orderBy('ts')\\\n",
    "            .rangeBetween(-604800000,0)\n",
    "window_2_weeks = w.partitionBy('userId')\\\n",
    "            .orderBy('ts')\\\n",
    "            .rangeBetween(-1209600000,0)"
   ]
  },
  {
   "cell_type": "code",
   "execution_count": 58,
   "metadata": {
    "collapsed": true
   },
   "outputs": [],
   "source": [
    "df = df.withColumn('actions_48',f.count(df.page).over(window_48))\\\n",
    "    .withColumn('actions_week', f.count(df.page).over(window_1_week))\\\n",
    "    .withColumn('actions_2weeks', f.count(df.page).over(window_2_weeks))"
   ]
  },
  {
   "cell_type": "code",
   "execution_count": 61,
   "metadata": {
    "collapsed": true
   },
   "outputs": [],
   "source": [
    "advert = f.udf(lambda x: 1 if x =='Roll Advert' else 0, IntegerType())\n",
    "df = df.withColumn('ad_here',advert(df.page))"
   ]
  },
  {
   "cell_type": "code",
   "execution_count": 62,
   "metadata": {},
   "outputs": [
    {
     "name": "stdout",
     "output_type": "stream",
     "text": [
      "+-------+------+---------------+\n",
      "|ad_here|userId|           page|\n",
      "+-------+------+---------------+\n",
      "|      0|    30|       NextSong|\n",
      "|      0|     9|       NextSong|\n",
      "|      0|    30|       NextSong|\n",
      "|      0|     9|       NextSong|\n",
      "|      0|    30|       NextSong|\n",
      "|      0|     9|       NextSong|\n",
      "|      0|     9|       NextSong|\n",
      "|      0|    30|       NextSong|\n",
      "|      0|    30|Add to Playlist|\n",
      "|      0|    30|       NextSong|\n",
      "|      0|     9|       NextSong|\n",
      "|      1|     9|    Roll Advert|\n",
      "|      0|    30|       NextSong|\n",
      "|      0|     9|       NextSong|\n",
      "|      0|     9|      Thumbs Up|\n",
      "|      0|    30|       NextSong|\n",
      "|      0|     9|       NextSong|\n",
      "|      0|    74|       NextSong|\n",
      "|      0|    30|       NextSong|\n",
      "|      0|     9|       NextSong|\n",
      "+-------+------+---------------+\n",
      "only showing top 20 rows\n",
      "\n"
     ]
    }
   ],
   "source": [
    "df.select('ad_here','userId','page').show(20)"
   ]
  },
  {
   "cell_type": "code",
   "execution_count": 63,
   "metadata": {
    "collapsed": true
   },
   "outputs": [],
   "source": [
    "df = df.withColumn('ads_2_weeks',f.sum(df.ad_here).over(window_2_weeks))\\\n",
    "    .withColumn('ads_1_week',f.sum(df.ad_here).over(window_1_week))\\\n",
    "    .withColumn('ads_48',f.sum(df.ad_here).over(window_48))"
   ]
  },
  {
   "cell_type": "code",
   "execution_count": 66,
   "metadata": {},
   "outputs": [
    {
     "name": "stdout",
     "output_type": "stream",
     "text": [
      "+-----------+----------+------+-----------+------+-------+------------+\n",
      "|ads_2_weeks|ads_1_week|ads_48|       page|userID|ad_here|Until_Cancel|\n",
      "+-----------+----------+------+-----------+------+-------+------------+\n",
      "|          1|         1|     1|Roll Advert|100010|      1|        null|\n",
      "|          2|         2|     2|Roll Advert|100010|      1|        null|\n",
      "|          3|         3|     3|Roll Advert|100010|      1|        null|\n",
      "|          4|         4|     4|Roll Advert|100010|      1|        null|\n",
      "|          5|         5|     5|Roll Advert|100010|      1|        null|\n",
      "|          6|         6|     6|Roll Advert|100010|      1|        null|\n",
      "|          7|         7|     7|Roll Advert|100010|      1|        null|\n",
      "|          8|         1|     1|Roll Advert|100010|      1|        null|\n",
      "|          9|         2|     2|Roll Advert|100010|      1|        null|\n",
      "|         10|         3|     3|Roll Advert|100010|      1|        null|\n",
      "|         11|         4|     4|Roll Advert|100010|      1|        null|\n",
      "|         12|         5|     5|Roll Advert|100010|      1|        null|\n",
      "|         13|         6|     6|Roll Advert|100010|      1|        null|\n",
      "|         14|         7|     7|Roll Advert|100010|      1|        null|\n",
      "|         15|         8|     1|Roll Advert|100010|      1|        null|\n",
      "|         16|         9|     2|Roll Advert|100010|      1|        null|\n",
      "|         17|        10|     3|Roll Advert|100010|      1|        null|\n",
      "|         18|        11|     4|Roll Advert|100010|      1|        null|\n",
      "|         19|        12|     5|Roll Advert|100010|      1|        null|\n",
      "|         20|        13|     6|Roll Advert|100010|      1|        null|\n",
      "|         21|        14|     7|Roll Advert|100010|      1|        null|\n",
      "|         22|        15|     8|Roll Advert|100010|      1|        null|\n",
      "|          1|         1|     1|Roll Advert|100010|      1|        null|\n",
      "|          2|         2|     2|Roll Advert|100010|      1|        null|\n",
      "|          3|         3|     3|Roll Advert|100010|      1|        null|\n",
      "|          4|         4|     4|Roll Advert|100010|      1|        null|\n",
      "|          5|         5|     5|Roll Advert|100010|      1|        null|\n",
      "|          6|         6|     6|Roll Advert|100010|      1|        null|\n",
      "|          7|         7|     7|Roll Advert|100010|      1|        null|\n",
      "|          8|         8|     8|Roll Advert|100010|      1|        null|\n",
      "|          9|         9|     9|Roll Advert|100010|      1|        null|\n",
      "|         10|        10|     1|Roll Advert|100010|      1|        null|\n",
      "|         11|        11|     2|Roll Advert|100010|      1|        null|\n",
      "|         12|        12|     3|Roll Advert|100010|      1|        null|\n",
      "|         13|        13|     4|Roll Advert|100010|      1|        null|\n",
      "|         14|        14|     5|Roll Advert|100010|      1|        null|\n",
      "|         15|        15|     6|Roll Advert|100010|      1|        null|\n",
      "|         16|        16|     7|Roll Advert|100010|      1|        null|\n",
      "|         17|        17|     8|Roll Advert|100010|      1|        null|\n",
      "|         18|        18|     9|Roll Advert|100010|      1|        null|\n",
      "|         19|        19|    10|Roll Advert|100010|      1|        null|\n",
      "|         20|        20|    11|Roll Advert|100010|      1|        null|\n",
      "|         21|        21|    12|Roll Advert|100010|      1|        null|\n",
      "|         22|        22|    13|Roll Advert|100010|      1|        null|\n",
      "|         23|        23|    14|Roll Advert|100010|      1|        null|\n",
      "|         24|        24|    15|Roll Advert|100010|      1|        null|\n",
      "|         25|        25|    16|Roll Advert|100010|      1|        null|\n",
      "|         26|        26|    17|Roll Advert|100010|      1|        null|\n",
      "|         27|        27|    18|Roll Advert|100010|      1|        null|\n",
      "|         28|        28|    19|Roll Advert|100010|      1|        null|\n",
      "|         20|         1|     1|Roll Advert|100010|      1|        null|\n",
      "|         21|         2|     2|Roll Advert|100010|      1|        null|\n",
      "|          1|         1|     1|Roll Advert|200002|      1|        null|\n",
      "|          2|         2|     2|Roll Advert|200002|      1|        null|\n",
      "|          3|         3|     3|Roll Advert|200002|      1|        null|\n",
      "|          3|         1|     1|Roll Advert|200002|      1|        null|\n",
      "|          2|         2|     2|Roll Advert|200002|      1|        null|\n",
      "|          3|         3|     3|Roll Advert|200002|      1|        null|\n",
      "|          4|         4|     4|Roll Advert|200002|      1|        null|\n",
      "|          1|         1|     1|Roll Advert|   125|      1|        1000|\n",
      "|          1|         1|     1|Roll Advert|   124|      1|        null|\n",
      "|          2|         1|     1|Roll Advert|   124|      1|        null|\n",
      "|          2|         1|     1|Roll Advert|   124|      1|        null|\n",
      "|          3|         2|     2|Roll Advert|   124|      1|        null|\n",
      "|          1|         1|     1|Roll Advert|     7|      1|        null|\n",
      "|          2|         2|     2|Roll Advert|     7|      1|        null|\n",
      "|          1|         1|     1|Roll Advert|     7|      1|        null|\n",
      "|          2|         2|     2|Roll Advert|     7|      1|        null|\n",
      "|          3|         3|     1|Roll Advert|     7|      1|        null|\n",
      "|          4|         4|     2|Roll Advert|     7|      1|        null|\n",
      "|          5|         5|     3|Roll Advert|     7|      1|        null|\n",
      "|          6|         6|     4|Roll Advert|     7|      1|        null|\n",
      "|          7|         7|     5|Roll Advert|     7|      1|        null|\n",
      "|          8|         8|     6|Roll Advert|     7|      1|        null|\n",
      "|          9|         9|     7|Roll Advert|     7|      1|        null|\n",
      "|         10|        10|     8|Roll Advert|     7|      1|        null|\n",
      "|         11|        11|     9|Roll Advert|     7|      1|        null|\n",
      "|          1|         1|     1|Roll Advert|     7|      1|        null|\n",
      "|          2|         2|     2|Roll Advert|     7|      1|        null|\n",
      "|          3|         1|     1|Roll Advert|     7|      1|        null|\n",
      "+-----------+----------+------+-----------+------+-------+------------+\n",
      "only showing top 80 rows\n",
      "\n"
     ]
    }
   ],
   "source": [
    "df.select('ads_2_weeks', 'ads_1_week','ads_48','page','userID','ad_here','Until_Cancel').where(df.ad_here==1).show(80)"
   ]
  },
  {
   "cell_type": "markdown",
   "metadata": {},
   "source": [
    "# Feature Engineering\n",
    "Once you've familiarized yourself with the data, build out the features you find promising to train your model on. To work with the full dataset, you can follow the following steps.\n",
    "- Write a script to extract the necessary features from the smaller subset of data\n",
    "- Ensure that your script is scalable, using the best practices discussed in Lesson 3\n",
    "- Try your script on the full data set, debugging your script if necessary\n",
    "\n",
    "If you are working in the classroom workspace, you can just extract features based on the small subset of data contained here. Be sure to transfer over this work to the larger dataset when you work on your Spark cluster."
   ]
  },
  {
   "cell_type": "markdown",
   "metadata": {},
   "source": [
    "# Further possible features\n",
    "ads per interaction, windows received (e.g. 404 a lot?)"
   ]
  },
  {
   "cell_type": "code",
   "execution_count": 67,
   "metadata": {},
   "outputs": [
    {
     "data": {
      "text/plain": [
       "Row(artist='Sleeping With Sirens', auth='Logged In', firstName='Darianna', gender='F', itemInSession=0, lastName='Carpenter', length=202.97098, level='free', location='Bridgeport-Stamford-Norwalk, CT', method='PUT', page='NextSong', registration=1538016340000, sessionId=31, song='Captain Tyin Knots VS Mr Walkway (No Way)', status=200, ts=1539003534000, userAgent='\"Mozilla/5.0 (iPhone; CPU iPhone OS 7_1_2 like Mac OS X) AppleWebKit/537.51.2 (KHTML, like Gecko) Version/7.0 Mobile/11D257 Safari/9537.53\"', userId='100010', datetime='2018-10-08 07:58:54', churns=0, Cancel_Time=None, Until_Cancel=None, CancelDate=None, CancelIn48=0, actions_48=1, actions_week=1, actions_2weeks=1, ad_here=0, ads_2_weeks=0, ads_1_week=0, ads_48=0)"
      ]
     },
     "execution_count": 67,
     "metadata": {},
     "output_type": "execute_result"
    }
   ],
   "source": [
    "df.head()"
   ]
  },
  {
   "cell_type": "code",
   "execution_count": 68,
   "metadata": {},
   "outputs": [
    {
     "name": "stdout",
     "output_type": "stream",
     "text": [
      "root\n",
      " |-- artist: string (nullable = true)\n",
      " |-- auth: string (nullable = true)\n",
      " |-- firstName: string (nullable = true)\n",
      " |-- gender: string (nullable = true)\n",
      " |-- itemInSession: long (nullable = true)\n",
      " |-- lastName: string (nullable = true)\n",
      " |-- length: double (nullable = true)\n",
      " |-- level: string (nullable = true)\n",
      " |-- location: string (nullable = true)\n",
      " |-- method: string (nullable = true)\n",
      " |-- page: string (nullable = true)\n",
      " |-- registration: long (nullable = true)\n",
      " |-- sessionId: long (nullable = true)\n",
      " |-- song: string (nullable = true)\n",
      " |-- status: long (nullable = true)\n",
      " |-- ts: long (nullable = true)\n",
      " |-- userAgent: string (nullable = true)\n",
      " |-- userId: string (nullable = true)\n",
      " |-- datetime: string (nullable = true)\n",
      " |-- churns: integer (nullable = true)\n",
      " |-- Cancel_Time: long (nullable = true)\n",
      " |-- Until_Cancel: long (nullable = true)\n",
      " |-- CancelDate: string (nullable = true)\n",
      " |-- CancelIn48: integer (nullable = true)\n",
      " |-- actions_48: long (nullable = false)\n",
      " |-- actions_week: long (nullable = false)\n",
      " |-- actions_2weeks: long (nullable = false)\n",
      " |-- ad_here: integer (nullable = true)\n",
      " |-- ads_2_weeks: long (nullable = true)\n",
      " |-- ads_1_week: long (nullable = true)\n",
      " |-- ads_48: long (nullable = true)\n",
      "\n"
     ]
    }
   ],
   "source": [
    "df.printSchema()"
   ]
  },
  {
   "cell_type": "code",
   "execution_count": 71,
   "metadata": {},
   "outputs": [
    {
     "data": {
      "text/plain": [
       "Row(auth='Logged In', gender='F', itemInSession=0, length=202.97098, level='free', location='Bridgeport-Stamford-Norwalk, CT', method='PUT', page='NextSong', registration=1538016340000, sessionId=31, song='Captain Tyin Knots VS Mr Walkway (No Way)', status=200, ts=1539003534000, userAgent='\"Mozilla/5.0 (iPhone; CPU iPhone OS 7_1_2 like Mac OS X) AppleWebKit/537.51.2 (KHTML, like Gecko) Version/7.0 Mobile/11D257 Safari/9537.53\"', userId='100010', churns=0, Cancel_Time=-1, CancelIn48=0, actions_48=1, actions_week=1, actions_2weeks=1, ad_here=0, ads_2_weeks=0, ads_1_week=0, ads_48=0)"
      ]
     },
     "execution_count": 71,
     "metadata": {},
     "output_type": "execute_result"
    }
   ],
   "source": [
    "df = df.fillna(-1)\n",
    "df.head()"
   ]
  },
  {
   "cell_type": "markdown",
   "metadata": {},
   "source": [
    "# Modeling\n",
    "Split the full dataset into train, test, and validation sets. Test out several of the machine learning methods you learned. Evaluate the accuracy of the various models, tuning parameters as necessary. Determine your winning model based on test accuracy and report results on the validation set. Since the churned users are a fairly small subset, I suggest using F1 score as the metric to optimize."
   ]
  },
  {
   "cell_type": "markdown",
   "metadata": {},
   "source": [
    "## Explore these features below more"
   ]
  },
  {
   "cell_type": "code",
   "execution_count": 87,
   "metadata": {},
   "outputs": [
    {
     "data": {
      "text/plain": [
       "1311"
      ]
     },
     "execution_count": 87,
     "metadata": {},
     "output_type": "execute_result"
    }
   ],
   "source": [
    "df.select('itemInSession').distinct().count()"
   ]
  },
  {
   "cell_type": "code",
   "execution_count": 88,
   "metadata": {},
   "outputs": [
    {
     "data": {
      "text/plain": [
       "14866"
      ]
     },
     "execution_count": 88,
     "metadata": {},
     "output_type": "execute_result"
    }
   ],
   "source": [
    "df.select('length').distinct().count()"
   ]
  },
  {
   "cell_type": "code",
   "execution_count": 89,
   "metadata": {},
   "outputs": [
    {
     "data": {
      "text/plain": [
       "2312"
      ]
     },
     "execution_count": 89,
     "metadata": {},
     "output_type": "execute_result"
    }
   ],
   "source": [
    "df.select('sessionId').distinct().count()"
   ]
  },
  {
   "cell_type": "code",
   "execution_count": 90,
   "metadata": {},
   "outputs": [
    {
     "data": {
      "text/plain": [
       "225"
      ]
     },
     "execution_count": 90,
     "metadata": {},
     "output_type": "execute_result"
    }
   ],
   "source": [
    "df.select('registration').distinct().count()"
   ]
  },
  {
   "cell_type": "code",
   "execution_count": 91,
   "metadata": {},
   "outputs": [
    {
     "data": {
      "text/plain": [
       "3"
      ]
     },
     "execution_count": 91,
     "metadata": {},
     "output_type": "execute_result"
    }
   ],
   "source": [
    "df.select('status').distinct().count()"
   ]
  },
  {
   "cell_type": "code",
   "execution_count": 128,
   "metadata": {
    "collapsed": true
   },
   "outputs": [],
   "source": [
    "#only maintain features\n",
    "feat_cols = ['churns','actions_48','actions_week','actions_2weeks',\\\n",
    "               'ad_here','ads_2_weeks','ads_1_week','ads_48']"
   ]
  },
  {
   "cell_type": "code",
   "execution_count": 129,
   "metadata": {
    "collapsed": true
   },
   "outputs": [],
   "source": [
    "lr = LogisticRegression(family='binomial')"
   ]
  },
  {
   "cell_type": "code",
   "execution_count": 130,
   "metadata": {
    "collapsed": true
   },
   "outputs": [],
   "source": [
    "df = df.drop('DescVec')"
   ]
  },
  {
   "cell_type": "code",
   "execution_count": 131,
   "metadata": {},
   "outputs": [],
   "source": [
    "assembler = VectorAssembler(inputCols=feat_cols, outputCol='DescVec')\n",
    "df = assembler.transform(df)"
   ]
  },
  {
   "cell_type": "code",
   "execution_count": 132,
   "metadata": {},
   "outputs": [
    {
     "data": {
      "text/plain": [
       "Row(label=0, features=SparseVector(8, {1: 1.0, 2: 1.0, 3: 1.0}))"
      ]
     },
     "execution_count": 132,
     "metadata": {},
     "output_type": "execute_result"
    }
   ],
   "source": [
    "data = df.select(f.col(\"CancelIn48\").alias(\"label\"), f.col('DescVec').alias(\"features\"))"
   ]
  },
  {
   "cell_type": "code",
   "execution_count": 133,
   "metadata": {
    "collapsed": true
   },
   "outputs": [],
   "source": [
    "train_data, test_data = data.randomSplit([0.75,0.25], seed=42)"
   ]
  },
  {
   "cell_type": "code",
   "execution_count": 134,
   "metadata": {},
   "outputs": [],
   "source": [
    "model_1 = lr.fit(train_data)"
   ]
  },
  {
   "cell_type": "code",
   "execution_count": 135,
   "metadata": {
    "collapsed": true
   },
   "outputs": [],
   "source": [
    "predicts = model_1.transform(test_data)"
   ]
  },
  {
   "cell_type": "code",
   "execution_count": 136,
   "metadata": {},
   "outputs": [
    {
     "name": "stdout",
     "output_type": "stream",
     "text": [
      "+-----+--------------------+--------------------+--------------------+----------+\n",
      "|label|            features|       rawPrediction|         probability|prediction|\n",
      "+-----+--------------------+--------------------+--------------------+----------+\n",
      "|    1|(8,[0,1,2,3],[1.0...|[1.69336301922092...|[0.84466591780876...|       0.0|\n",
      "|    1|(8,[0,1,2,3],[1.0...|[1.69648092402432...|[0.84507456429448...|       0.0|\n",
      "|    1|(8,[0,1,2,3],[1.0...|[-0.0087935798594...|[0.49780161920131...|       1.0|\n",
      "|    1|(8,[0,1,2,3],[1.0...|[0.03396753180796...|[0.50849106655644...|       0.0|\n",
      "|    1|(8,[0,1,2,3],[1.0...|[0.03643691696964...|[0.50910822155466...|       0.0|\n",
      "|    1|(8,[0,1,2,3],[1.0...|[0.03890630213132...|[0.50972534879179...|       0.0|\n",
      "|    1|(8,[0,1,2,3],[1.0...|[0.06581180122750...|[0.51644701446894...|       0.0|\n",
      "|    1|(8,[0,1,2,3],[1.0...|[0.09622598708649...|[0.52403795146812...|       0.0|\n",
      "|    1|(8,[0,1,2,3],[1.0...|[0.12131062066271...|[0.53029051732930...|       0.0|\n",
      "|    1|(8,[0,1,2,3],[1.0...|[0.13079737935001...|[0.53265280621213...|       0.0|\n",
      "|    1|(8,[0,1,2,3],[1.0...|[0.13924483643619...|[0.53475507138046...|       0.0|\n",
      "|    1|(8,[0,1,2,3],[1.0...|[0.14028413803732...|[0.53501363203002...|       0.0|\n",
      "|    1|(8,[0,1,2,3],[1.0...|[0.14522290836067...|[0.53624205498243...|       0.0|\n",
      "|    1|(8,[0,1,2,3],[1.0...|[0.15367036544685...|[0.53834216818776...|       0.0|\n",
      "|    1|(8,[0,1,2,3],[1.0...|[0.16211782253303...|[0.54044092141428...|       0.0|\n",
      "|    1|(8,[0,1,2,3],[1.0...|[0.18044282026592...|[0.54498870336502...|       0.0|\n",
      "|    1|(8,[0,1,2,3],[1.0...|[0.18928105931151...|[0.54717948931374...|       0.0|\n",
      "|    1|(8,[0,1,2,3],[1.0...|[0.19564991319541...|[0.54875704697021...|       0.0|\n",
      "|    1|(8,[0,1,2,3],[1.0...|[0.20513667188272...|[0.55110508056417...|       0.0|\n",
      "|    1|(8,[0,1,2,3],[1.0...|[0.20721527508498...|[0.55161924781227...|       0.0|\n",
      "+-----+--------------------+--------------------+--------------------+----------+\n",
      "only showing top 20 rows\n",
      "\n"
     ]
    }
   ],
   "source": [
    "predicts.where(predicts.label==1).show()"
   ]
  },
  {
   "cell_type": "code",
   "execution_count": null,
   "metadata": {
    "collapsed": true
   },
   "outputs": [],
   "source": []
  },
  {
   "cell_type": "code",
   "execution_count": 137,
   "metadata": {},
   "outputs": [
    {
     "name": "stdout",
     "output_type": "stream",
     "text": [
      "1\n",
      "1699\n"
     ]
    }
   ],
   "source": [
    "print(predicts.filter((predicts.label == 1) & (predicts.prediction==1)).count())\n",
    "print(predicts.filter(predicts.label == 1).count())"
   ]
  },
  {
   "cell_type": "code",
   "execution_count": 112,
   "metadata": {
    "collapsed": true
   },
   "outputs": [],
   "source": [
    "#tuning\n",
    "#http://spark.apache.org/docs/2.3.2/api/python/pyspark.ml.html#pyspark.ml.tuning.CrossValidator"
   ]
  },
  {
   "cell_type": "markdown",
   "metadata": {},
   "source": [
    "# Final Steps\n",
    "Clean up your code, adding comments and renaming variables to make the code easier to read and maintain. Refer to the Spark Project Overview page and Data Scientist Capstone Project Rubric to make sure you are including all components of the capstone project and meet all expectations. Remember, this includes thorough documentation in a README file in a Github repository, as well as a web app or blog post."
   ]
  },
  {
   "cell_type": "code",
   "execution_count": null,
   "metadata": {
    "collapsed": true
   },
   "outputs": [],
   "source": []
  }
 ],
 "metadata": {
  "kernelspec": {
   "display_name": "Python 3",
   "language": "python",
   "name": "python3"
  },
  "language_info": {
   "codemirror_mode": {
    "name": "ipython",
    "version": 3
   },
   "file_extension": ".py",
   "mimetype": "text/x-python",
   "name": "python",
   "nbconvert_exporter": "python",
   "pygments_lexer": "ipython3",
   "version": "3.6.3"
  }
 },
 "nbformat": 4,
 "nbformat_minor": 2
}
