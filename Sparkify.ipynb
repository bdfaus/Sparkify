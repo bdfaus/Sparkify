{
 "cells": [
  {
   "cell_type": "markdown",
   "metadata": {},
   "source": [
    "# Sparkify Project Workspace\n",
    "This workspace contains a tiny subset (128MB) of the full dataset available (12GB). Feel free to use this workspace to build your project, or to explore a smaller subset with Spark before deploying your cluster on the cloud. Instructions for setting up your Spark cluster is included in the last lesson of the Extracurricular Spark Course content.\n",
    "\n",
    "You can follow the steps below to guide your data analysis and model building portion of this project."
   ]
  },
  {
   "cell_type": "code",
   "execution_count": 1,
   "metadata": {},
   "outputs": [
    {
     "name": "stdout",
     "output_type": "stream",
     "text": [
      "+-----+\n",
      "|hello|\n",
      "+-----+\n",
      "|spark|\n",
      "+-----+\n",
      "\n"
     ]
    }
   ],
   "source": [
    "#for Windows\n",
    "# import findspark\n",
    "# findspark.init()\n",
    "\n",
    "import pyspark # only run after findspark.init()\n",
    "from pyspark.sql import SparkSession\n",
    "spark = SparkSession.builder.getOrCreate()\n",
    "\n",
    "df = spark.sql('''select 'spark' as hello ''')\n",
    "df.show()"
   ]
  },
  {
   "cell_type": "code",
   "execution_count": 2,
   "metadata": {},
   "outputs": [],
   "source": [
    "# import libraries\n",
    "from pyspark import SparkContext, SparkConf\n",
    "from pyspark.sql import SparkSession, Window\n",
    "from pyspark.sql import functions as f\n",
    "from pyspark.sql.types import IntegerType, StringType\n",
    "from pyspark.sql.window import Window as w\n",
    "from pyspark.ml.classification import LogisticRegression, LinearSVC, GBTClassifier\n",
    "from pyspark.ml.feature import VectorAssembler\n",
    "from pyspark.ml.evaluation import BinaryClassificationEvaluator, MulticlassClassificationEvaluator\n",
    "from pyspark.ml.tuning import CrossValidator, ParamGridBuilder, TrainValidationSplit\n",
    "\n",
    "import datetime\n",
    "import sys\n",
    "\n",
    "import numpy as np\n",
    "import pandas as pd\n",
    "%matplotlib inline\n",
    "import matplotlib.pyplot as plt"
   ]
  },
  {
   "cell_type": "code",
   "execution_count": 3,
   "metadata": {},
   "outputs": [],
   "source": [
    "start = datetime.datetime.now()\n",
    "def time_elapsed(start=start):\n",
    "    '''Prints amount of time elapsed since established start time\n",
    "    start is a pre-established start time'''\n",
    "    \n",
    "    now = datetime.datetime.now()\n",
    "    elapsed = now - start\n",
    "    return elapsed\n",
    "    "
   ]
  },
  {
   "cell_type": "code",
   "execution_count": 4,
   "metadata": {},
   "outputs": [],
   "source": [
    "# create a Spark session\n",
    "# docs here: https://spark.apache.org/docs/latest/api/python/pyspark.sql.html\n",
    "# configure = SparkConf().setAppName(\"Sparkify\").setMaster(\"local\")\n",
    "    #     for SparkSession # .config(conf=configure) \\\n",
    "spark = SparkSession \\\n",
    "    .builder \\\n",
    "    .getOrCreate()\n",
    "    \n",
    "    "
   ]
  },
  {
   "cell_type": "markdown",
   "metadata": {},
   "source": [
    "# Load and Clean Dataset\n",
    "Clean your dataset, checking for invalid or missing data. For example, records without userids or sessionids. In this workspace, the filename is `mini_sparkify_event_data.json`."
   ]
  },
  {
   "cell_type": "code",
   "execution_count": 5,
   "metadata": {},
   "outputs": [
    {
     "data": {
      "text/plain": [
       "Row(artist='Martha Tilston', auth='Logged In', firstName='Colin', gender='M', itemInSession=50, lastName='Freeman', length=277.89016, level='paid', location='Bakersfield, CA', method='PUT', page='NextSong', registration=1538173362000, sessionId=29, song='Rockpools', status=200, ts=1538352117000, userAgent='Mozilla/5.0 (Windows NT 6.1; WOW64; rv:31.0) Gecko/20100101 Firefox/31.0', userId='30')"
      ]
     },
     "execution_count": 5,
     "metadata": {},
     "output_type": "execute_result"
    }
   ],
   "source": [
    "df = spark.read.json('mini_sparkify_event_data.json')\n",
    "df.head()"
   ]
  },
  {
   "cell_type": "markdown",
   "metadata": {},
   "source": [
    "# Exploratory Data Analysis\n",
    "When you're working with the full dataset, perform EDA by loading a small subset of the data and doing basic manipulations within Spark. In this workspace, you are already provided a small subset of data you can explore.\n",
    "\n",
    "### Define Churn\n",
    "\n",
    "Once you've done some preliminary analysis, create a column `Churn` to use as the label for your model. I suggest using the `Cancellation Confirmation` events to define your churn, which happen for both paid and free users. As a bonus task, you can also look into the `Downgrade` events.\n",
    "\n",
    "### Explore Data\n",
    "Once you've defined churn, perform some exploratory data analysis to observe the behavior for users who stayed vs users who churned. You can start by exploring aggregates on these two groups of users, observing how much of a specific action they experienced per a certain time unit or number of songs played."
   ]
  },
  {
   "cell_type": "code",
   "execution_count": 6,
   "metadata": {
    "scrolled": true
   },
   "outputs": [
    {
     "name": "stdout",
     "output_type": "stream",
     "text": [
      "root\n",
      " |-- artist: string (nullable = true)\n",
      " |-- auth: string (nullable = true)\n",
      " |-- firstName: string (nullable = true)\n",
      " |-- gender: string (nullable = true)\n",
      " |-- itemInSession: long (nullable = true)\n",
      " |-- lastName: string (nullable = true)\n",
      " |-- length: double (nullable = true)\n",
      " |-- level: string (nullable = true)\n",
      " |-- location: string (nullable = true)\n",
      " |-- method: string (nullable = true)\n",
      " |-- page: string (nullable = true)\n",
      " |-- registration: long (nullable = true)\n",
      " |-- sessionId: long (nullable = true)\n",
      " |-- song: string (nullable = true)\n",
      " |-- status: long (nullable = true)\n",
      " |-- ts: long (nullable = true)\n",
      " |-- userAgent: string (nullable = true)\n",
      " |-- userId: string (nullable = true)\n",
      "\n"
     ]
    }
   ],
   "source": [
    "df.printSchema()"
   ]
  },
  {
   "cell_type": "code",
   "execution_count": 7,
   "metadata": {},
   "outputs": [
    {
     "data": {
      "text/plain": [
       "278154"
      ]
     },
     "execution_count": 7,
     "metadata": {},
     "output_type": "execute_result"
    }
   ],
   "source": [
    "df = df.dropna(thresh=15)\n",
    "df.count()"
   ]
  },
  {
   "cell_type": "code",
   "execution_count": 8,
   "metadata": {
    "scrolled": true
   },
   "outputs": [
    {
     "name": "stdout",
     "output_type": "stream",
     "text": [
      "+--------------------+\n",
      "|                page|\n",
      "+--------------------+\n",
      "|              Cancel|\n",
      "|    Submit Downgrade|\n",
      "|         Thumbs Down|\n",
      "|                Home|\n",
      "|           Downgrade|\n",
      "|         Roll Advert|\n",
      "|              Logout|\n",
      "|       Save Settings|\n",
      "|Cancellation Conf...|\n",
      "|               About|\n",
      "|            Settings|\n",
      "|     Add to Playlist|\n",
      "|          Add Friend|\n",
      "|            NextSong|\n",
      "|           Thumbs Up|\n",
      "|                Help|\n",
      "|             Upgrade|\n",
      "|               Error|\n",
      "|      Submit Upgrade|\n",
      "+--------------------+\n",
      "\n"
     ]
    }
   ],
   "source": [
    "df.select('page').distinct().show()"
   ]
  },
  {
   "cell_type": "code",
   "execution_count": 9,
   "metadata": {},
   "outputs": [
    {
     "name": "stdout",
     "output_type": "stream",
     "text": [
      "+--------------------+------+\n",
      "|                page| count|\n",
      "+--------------------+------+\n",
      "|              Cancel|    52|\n",
      "|    Submit Downgrade|    63|\n",
      "|         Thumbs Down|  2546|\n",
      "|                Home| 10082|\n",
      "|           Downgrade|  2055|\n",
      "|         Roll Advert|  3933|\n",
      "|              Logout|  3226|\n",
      "|       Save Settings|   310|\n",
      "|Cancellation Conf...|    52|\n",
      "|               About|   495|\n",
      "|            Settings|  1514|\n",
      "|     Add to Playlist|  6526|\n",
      "|          Add Friend|  4277|\n",
      "|            NextSong|228108|\n",
      "|           Thumbs Up| 12551|\n",
      "|                Help|  1454|\n",
      "|             Upgrade|   499|\n",
      "|               Error|   252|\n",
      "|      Submit Upgrade|   159|\n",
      "+--------------------+------+\n",
      "\n"
     ]
    }
   ],
   "source": [
    "df.groupBy(df.page).count().show()"
   ]
  },
  {
   "cell_type": "code",
   "execution_count": 10,
   "metadata": {},
   "outputs": [
    {
     "name": "stdout",
     "output_type": "stream",
     "text": [
      "Number who confirmed cancellation: 52\n",
      "+------+-----+\n",
      "|gender|count|\n",
      "+------+-----+\n",
      "|     F|   20|\n",
      "|     M|   32|\n",
      "+------+-----+\n",
      "\n"
     ]
    }
   ],
   "source": [
    "print(f\"Number who confirmed cancellation: {df.where(df.page=='Cancellation Confirmation') \\\n",
    "    .count()}\")\n",
    "df.where(df.page=='Cancellation Confirmation') \\\n",
    "    .groupBy('gender')\\\n",
    "    .count() \\\n",
    "    .show()"
   ]
  },
  {
   "cell_type": "code",
   "execution_count": 11,
   "metadata": {},
   "outputs": [
    {
     "data": {
      "text/plain": [
       "225"
      ]
     },
     "execution_count": 11,
     "metadata": {},
     "output_type": "execute_result"
    }
   ],
   "source": [
    "df.select('userId').distinct().count()"
   ]
  },
  {
   "cell_type": "code",
   "execution_count": 12,
   "metadata": {},
   "outputs": [],
   "source": [
    "df = df.withColumn('datetime',f.from_unixtime(df.ts/1000))"
   ]
  },
  {
   "cell_type": "code",
   "execution_count": 13,
   "metadata": {},
   "outputs": [
    {
     "data": {
      "text/plain": [
       "Row(artist='Martha Tilston', auth='Logged In', firstName='Colin', gender='M', itemInSession=50, lastName='Freeman', length=277.89016, level='paid', location='Bakersfield, CA', method='PUT', page='NextSong', registration=1538173362000, sessionId=29, song='Rockpools', status=200, ts=1538352117000, userAgent='Mozilla/5.0 (Windows NT 6.1; WOW64; rv:31.0) Gecko/20100101 Firefox/31.0', userId='30', datetime='2018-10-01 00:01:57')"
      ]
     },
     "execution_count": 13,
     "metadata": {},
     "output_type": "execute_result"
    }
   ],
   "source": [
    "df.head()"
   ]
  },
  {
   "cell_type": "markdown",
   "metadata": {},
   "source": [
    "### Defining *Churn*\n",
    "For now, we'll define *churn* as those who reach the \"Cancellation Confirmation\" Page."
   ]
  },
  {
   "cell_type": "code",
   "execution_count": 14,
   "metadata": {},
   "outputs": [],
   "source": [
    "churns = list(df.where(df.page=='Cancellation Confirmation').select('userId').toPandas()['userId'])"
   ]
  },
  {
   "cell_type": "code",
   "execution_count": 15,
   "metadata": {},
   "outputs": [
    {
     "name": "stdout",
     "output_type": "stream",
     "text": [
      "{129, 3, 12, 143, 17, 18, 28, 29, 32, 100001, 100003, 100005, 100006, 100007, 100009, 100011, 100012, 100013, 100014, 100015, 100017, 51, 100019, 53, 54, 100023, 100024, 100025, 58, 100022, 100021, 200001, 70, 73, 200011, 200015, 200016, 200017, 200018, 200020, 200021, 87, 200024, 300001, 101, 103, 300007, 105, 106, 121, 122, 125}\n"
     ]
    },
    {
     "data": {
      "text/plain": [
       "Row(artist='Martha Tilston', auth='Logged In', firstName='Colin', gender='M', itemInSession=50, lastName='Freeman', length=277.89016, level='paid', location='Bakersfield, CA', method='PUT', page='NextSong', registration=1538173362000, sessionId=29, song='Rockpools', status=200, ts=1538352117000, userAgent='Mozilla/5.0 (Windows NT 6.1; WOW64; rv:31.0) Gecko/20100101 Firefox/31.0', userId='30', datetime='2018-10-01 00:01:57', churns=0)"
      ]
     },
     "execution_count": 15,
     "metadata": {},
     "output_type": "execute_result"
    }
   ],
   "source": [
    "churns = set([int(x) for x in churns])\n",
    "\n",
    "print(churns)\n",
    "\n",
    "flag_churn = f.udf(lambda x: 1 if int(x) in churns else 0, IntegerType())\n",
    "\n",
    "df = df.withColumn('churns', flag_churn(df.userId))\n",
    "\n",
    "df.head()"
   ]
  },
  {
   "cell_type": "markdown",
   "metadata": {},
   "source": [
    "## Examining page visits between users who 'churn' and users who don't\n",
    "Particular page view stats might provide insight into users who 'churn'"
   ]
  },
  {
   "cell_type": "code",
   "execution_count": 16,
   "metadata": {},
   "outputs": [
    {
     "data": {
      "text/plain": [
       "(52, 173, 225)"
      ]
     },
     "execution_count": 16,
     "metadata": {},
     "output_type": "execute_result"
    }
   ],
   "source": [
    "num_churn = df.where(df.churns==1).select('userId').distinct().count()\n",
    "\n",
    "num_stay = df.where(df.churns==0).select('userId').distinct().count()\n",
    "\n",
    "total = df.select('userId').distinct().count()\n",
    "\n",
    "#amounts in each group\n",
    "num_churn, num_stay, total"
   ]
  },
  {
   "cell_type": "code",
   "execution_count": 17,
   "metadata": {
    "scrolled": true
   },
   "outputs": [
    {
     "data": {
      "text/html": [
       "<div>\n",
       "<style scoped>\n",
       "    .dataframe tbody tr th:only-of-type {\n",
       "        vertical-align: middle;\n",
       "    }\n",
       "\n",
       "    .dataframe tbody tr th {\n",
       "        vertical-align: top;\n",
       "    }\n",
       "\n",
       "    .dataframe thead th {\n",
       "        text-align: right;\n",
       "    }\n",
       "</style>\n",
       "<table border=\"1\" class=\"dataframe\">\n",
       "  <thead>\n",
       "    <tr style=\"text-align: right;\">\n",
       "      <th></th>\n",
       "      <th>churns_page</th>\n",
       "      <th>About</th>\n",
       "      <th>Add Friend</th>\n",
       "      <th>Add to Playlist</th>\n",
       "      <th>Cancel</th>\n",
       "      <th>Cancellation Confirmation</th>\n",
       "      <th>Downgrade</th>\n",
       "      <th>Error</th>\n",
       "      <th>Help</th>\n",
       "      <th>Home</th>\n",
       "      <th>Logout</th>\n",
       "      <th>NextSong</th>\n",
       "      <th>Roll Advert</th>\n",
       "      <th>Save Settings</th>\n",
       "      <th>Settings</th>\n",
       "      <th>Submit Downgrade</th>\n",
       "      <th>Submit Upgrade</th>\n",
       "      <th>Thumbs Down</th>\n",
       "      <th>Thumbs Up</th>\n",
       "      <th>Upgrade</th>\n",
       "    </tr>\n",
       "  </thead>\n",
       "  <tbody>\n",
       "    <tr>\n",
       "      <th>0</th>\n",
       "      <td>1</td>\n",
       "      <td>56</td>\n",
       "      <td>636</td>\n",
       "      <td>1038</td>\n",
       "      <td>52</td>\n",
       "      <td>52</td>\n",
       "      <td>337</td>\n",
       "      <td>32</td>\n",
       "      <td>239</td>\n",
       "      <td>1672</td>\n",
       "      <td>553</td>\n",
       "      <td>36394</td>\n",
       "      <td>967</td>\n",
       "      <td>58</td>\n",
       "      <td>270</td>\n",
       "      <td>9</td>\n",
       "      <td>32</td>\n",
       "      <td>496</td>\n",
       "      <td>1859</td>\n",
       "      <td>112</td>\n",
       "    </tr>\n",
       "    <tr>\n",
       "      <th>1</th>\n",
       "      <td>0</td>\n",
       "      <td>439</td>\n",
       "      <td>3641</td>\n",
       "      <td>5488</td>\n",
       "      <td>0</td>\n",
       "      <td>0</td>\n",
       "      <td>1718</td>\n",
       "      <td>220</td>\n",
       "      <td>1215</td>\n",
       "      <td>8410</td>\n",
       "      <td>2673</td>\n",
       "      <td>191714</td>\n",
       "      <td>2966</td>\n",
       "      <td>252</td>\n",
       "      <td>1244</td>\n",
       "      <td>54</td>\n",
       "      <td>127</td>\n",
       "      <td>2050</td>\n",
       "      <td>10692</td>\n",
       "      <td>387</td>\n",
       "    </tr>\n",
       "  </tbody>\n",
       "</table>\n",
       "</div>"
      ],
      "text/plain": [
       "  churns_page  About  Add Friend  Add to Playlist  Cancel  \\\n",
       "0           1     56         636             1038      52   \n",
       "1           0    439        3641             5488       0   \n",
       "\n",
       "   Cancellation Confirmation  Downgrade  Error  Help  Home  Logout  NextSong  \\\n",
       "0                         52        337     32   239  1672     553     36394   \n",
       "1                          0       1718    220  1215  8410    2673    191714   \n",
       "\n",
       "   Roll Advert  Save Settings  Settings  Submit Downgrade  Submit Upgrade  \\\n",
       "0          967             58       270                 9              32   \n",
       "1         2966            252      1244                54             127   \n",
       "\n",
       "   Thumbs Down  Thumbs Up  Upgrade  \n",
       "0          496       1859      112  \n",
       "1         2050      10692      387  "
      ]
     },
     "execution_count": 17,
     "metadata": {},
     "output_type": "execute_result"
    }
   ],
   "source": [
    "#raw data for users who churn and don't, toPandas for visualization purposes later\n",
    "churns_comp_df = df.crosstab('churns','page').toPandas()\n",
    "churns_comp_df"
   ]
  },
  {
   "cell_type": "code",
   "execution_count": 18,
   "metadata": {},
   "outputs": [],
   "source": [
    "#normalize data to per user numbers\n",
    "churns_comp_df['churns_page'] = pd.to_numeric(churns_comp_df['churns_page'])"
   ]
  },
  {
   "cell_type": "code",
   "execution_count": 19,
   "metadata": {},
   "outputs": [],
   "source": [
    "churns_comp_df.values[0] = churns_comp_df.values[0]/num_churn\n",
    "churns_comp_df.values[1] = churns_comp_df.values[1]/num_stay"
   ]
  },
  {
   "cell_type": "code",
   "execution_count": 20,
   "metadata": {},
   "outputs": [],
   "source": [
    "#reinsert binary for churning and not (floor division removes the in the churns_page column)\n",
    "churns_comp_df['churns_page'] = [1,0]"
   ]
  },
  {
   "cell_type": "code",
   "execution_count": 21,
   "metadata": {
    "scrolled": true
   },
   "outputs": [
    {
     "data": {
      "text/html": [
       "<div>\n",
       "<style scoped>\n",
       "    .dataframe tbody tr th:only-of-type {\n",
       "        vertical-align: middle;\n",
       "    }\n",
       "\n",
       "    .dataframe tbody tr th {\n",
       "        vertical-align: top;\n",
       "    }\n",
       "\n",
       "    .dataframe thead th {\n",
       "        text-align: right;\n",
       "    }\n",
       "</style>\n",
       "<table border=\"1\" class=\"dataframe\">\n",
       "  <thead>\n",
       "    <tr style=\"text-align: right;\">\n",
       "      <th></th>\n",
       "      <th>churns_page</th>\n",
       "      <th>About</th>\n",
       "      <th>Add Friend</th>\n",
       "      <th>Add to Playlist</th>\n",
       "      <th>Cancel</th>\n",
       "      <th>Cancellation Confirmation</th>\n",
       "      <th>Downgrade</th>\n",
       "      <th>Error</th>\n",
       "      <th>Help</th>\n",
       "      <th>Home</th>\n",
       "      <th>Logout</th>\n",
       "      <th>NextSong</th>\n",
       "      <th>Roll Advert</th>\n",
       "      <th>Save Settings</th>\n",
       "      <th>Settings</th>\n",
       "      <th>Submit Downgrade</th>\n",
       "      <th>Submit Upgrade</th>\n",
       "      <th>Thumbs Down</th>\n",
       "      <th>Thumbs Up</th>\n",
       "      <th>Upgrade</th>\n",
       "    </tr>\n",
       "  </thead>\n",
       "  <tbody>\n",
       "    <tr>\n",
       "      <th>0</th>\n",
       "      <td>1</td>\n",
       "      <td>1</td>\n",
       "      <td>12</td>\n",
       "      <td>19</td>\n",
       "      <td>1</td>\n",
       "      <td>1</td>\n",
       "      <td>6</td>\n",
       "      <td>0</td>\n",
       "      <td>4</td>\n",
       "      <td>32</td>\n",
       "      <td>10</td>\n",
       "      <td>699</td>\n",
       "      <td>18</td>\n",
       "      <td>1</td>\n",
       "      <td>5</td>\n",
       "      <td>0</td>\n",
       "      <td>0</td>\n",
       "      <td>9</td>\n",
       "      <td>35</td>\n",
       "      <td>2</td>\n",
       "    </tr>\n",
       "    <tr>\n",
       "      <th>1</th>\n",
       "      <td>0</td>\n",
       "      <td>2</td>\n",
       "      <td>21</td>\n",
       "      <td>31</td>\n",
       "      <td>0</td>\n",
       "      <td>0</td>\n",
       "      <td>9</td>\n",
       "      <td>1</td>\n",
       "      <td>7</td>\n",
       "      <td>48</td>\n",
       "      <td>15</td>\n",
       "      <td>1108</td>\n",
       "      <td>17</td>\n",
       "      <td>1</td>\n",
       "      <td>7</td>\n",
       "      <td>0</td>\n",
       "      <td>0</td>\n",
       "      <td>11</td>\n",
       "      <td>61</td>\n",
       "      <td>2</td>\n",
       "    </tr>\n",
       "  </tbody>\n",
       "</table>\n",
       "</div>"
      ],
      "text/plain": [
       "   churns_page  About  Add Friend  Add to Playlist  Cancel  \\\n",
       "0            1      1          12               19       1   \n",
       "1            0      2          21               31       0   \n",
       "\n",
       "   Cancellation Confirmation  Downgrade  Error  Help  Home  Logout  NextSong  \\\n",
       "0                          1          6      0     4    32      10       699   \n",
       "1                          0          9      1     7    48      15      1108   \n",
       "\n",
       "   Roll Advert  Save Settings  Settings  Submit Downgrade  Submit Upgrade  \\\n",
       "0           18              1         5                 0               0   \n",
       "1           17              1         7                 0               0   \n",
       "\n",
       "   Thumbs Down  Thumbs Up  Upgrade  \n",
       "0            9         35        2  \n",
       "1           11         61        2  "
      ]
     },
     "execution_count": 21,
     "metadata": {},
     "output_type": "execute_result"
    }
   ],
   "source": [
    "#Average Stats per user\n",
    "churns_comp_df"
   ]
  },
  {
   "cell_type": "code",
   "execution_count": 22,
   "metadata": {},
   "outputs": [],
   "source": [
    "#Normalizing Data\n",
    "# from https://stackoverflow.com/questions/28576540/how-can-i-normalize-the-data-in-a-range-of-columns-in-my-pandas-dataframe\n",
    "# cols_to_norm = ['Age','Height']\n",
    "# survey_data[cols_to_norm] = survey_data[cols_to_norm].apply(lambda x: (x - x.min()) / (x.max() - x.min()))"
   ]
  },
  {
   "cell_type": "code",
   "execution_count": 23,
   "metadata": {},
   "outputs": [],
   "source": [
    "#Normalize columns\n",
    "cols_to_norm = ['About','Add Friend', 'Add to Playlist', 'Downgrade', 'Help', 'Home', 'Logout', \n",
    "                'NextSong', 'Roll Advert', 'Save Settings', 'Settings', 'Thumbs Down', 'Thumbs Up', 'Upgrade']\n",
    "churns_comp_df[cols_to_norm] = churns_comp_df[cols_to_norm].apply(lambda x: x / x.sum())\n"
   ]
  },
  {
   "cell_type": "code",
   "execution_count": 24,
   "metadata": {},
   "outputs": [
    {
     "data": {
      "text/html": [
       "<div>\n",
       "<style scoped>\n",
       "    .dataframe tbody tr th:only-of-type {\n",
       "        vertical-align: middle;\n",
       "    }\n",
       "\n",
       "    .dataframe tbody tr th {\n",
       "        vertical-align: top;\n",
       "    }\n",
       "\n",
       "    .dataframe thead th {\n",
       "        text-align: right;\n",
       "    }\n",
       "</style>\n",
       "<table border=\"1\" class=\"dataframe\">\n",
       "  <thead>\n",
       "    <tr style=\"text-align: right;\">\n",
       "      <th></th>\n",
       "      <th>churns_page</th>\n",
       "      <th>About</th>\n",
       "      <th>Add Friend</th>\n",
       "      <th>Add to Playlist</th>\n",
       "      <th>Cancel</th>\n",
       "      <th>Cancellation Confirmation</th>\n",
       "      <th>Downgrade</th>\n",
       "      <th>Error</th>\n",
       "      <th>Help</th>\n",
       "      <th>Home</th>\n",
       "      <th>Logout</th>\n",
       "      <th>NextSong</th>\n",
       "      <th>Roll Advert</th>\n",
       "      <th>Save Settings</th>\n",
       "      <th>Settings</th>\n",
       "      <th>Submit Downgrade</th>\n",
       "      <th>Submit Upgrade</th>\n",
       "      <th>Thumbs Down</th>\n",
       "      <th>Thumbs Up</th>\n",
       "      <th>Upgrade</th>\n",
       "    </tr>\n",
       "  </thead>\n",
       "  <tbody>\n",
       "    <tr>\n",
       "      <th>0</th>\n",
       "      <td>1</td>\n",
       "      <td>0.333333</td>\n",
       "      <td>0.363636</td>\n",
       "      <td>0.38</td>\n",
       "      <td>1</td>\n",
       "      <td>1</td>\n",
       "      <td>0.4</td>\n",
       "      <td>0</td>\n",
       "      <td>0.363636</td>\n",
       "      <td>0.4</td>\n",
       "      <td>0.4</td>\n",
       "      <td>0.386829</td>\n",
       "      <td>0.514286</td>\n",
       "      <td>0.5</td>\n",
       "      <td>0.416667</td>\n",
       "      <td>0</td>\n",
       "      <td>0</td>\n",
       "      <td>0.45</td>\n",
       "      <td>0.364583</td>\n",
       "      <td>0.5</td>\n",
       "    </tr>\n",
       "    <tr>\n",
       "      <th>1</th>\n",
       "      <td>0</td>\n",
       "      <td>0.666667</td>\n",
       "      <td>0.636364</td>\n",
       "      <td>0.62</td>\n",
       "      <td>0</td>\n",
       "      <td>0</td>\n",
       "      <td>0.6</td>\n",
       "      <td>1</td>\n",
       "      <td>0.636364</td>\n",
       "      <td>0.6</td>\n",
       "      <td>0.6</td>\n",
       "      <td>0.613171</td>\n",
       "      <td>0.485714</td>\n",
       "      <td>0.5</td>\n",
       "      <td>0.583333</td>\n",
       "      <td>0</td>\n",
       "      <td>0</td>\n",
       "      <td>0.55</td>\n",
       "      <td>0.635417</td>\n",
       "      <td>0.5</td>\n",
       "    </tr>\n",
       "  </tbody>\n",
       "</table>\n",
       "</div>"
      ],
      "text/plain": [
       "   churns_page     About  Add Friend  Add to Playlist  Cancel  \\\n",
       "0            1  0.333333    0.363636             0.38       1   \n",
       "1            0  0.666667    0.636364             0.62       0   \n",
       "\n",
       "   Cancellation Confirmation  Downgrade  Error      Help  Home  Logout  \\\n",
       "0                          1        0.4      0  0.363636   0.4     0.4   \n",
       "1                          0        0.6      1  0.636364   0.6     0.6   \n",
       "\n",
       "   NextSong  Roll Advert  Save Settings  Settings  Submit Downgrade  \\\n",
       "0  0.386829     0.514286            0.5  0.416667                 0   \n",
       "1  0.613171     0.485714            0.5  0.583333                 0   \n",
       "\n",
       "   Submit Upgrade  Thumbs Down  Thumbs Up  Upgrade  \n",
       "0               0         0.45   0.364583      0.5  \n",
       "1               0         0.55   0.635417      0.5  "
      ]
     },
     "execution_count": 24,
     "metadata": {},
     "output_type": "execute_result"
    }
   ],
   "source": [
    "churns_comp_df"
   ]
  },
  {
   "cell_type": "code",
   "execution_count": 25,
   "metadata": {},
   "outputs": [],
   "source": [
    "#adjusting figures with matplotlib\n",
    "#https://stackoverflow.com/questions/332289/how-do-you-change-the-size-of-figures-drawn-with-matplotlib?answertab=active#tab-top\n",
    "#the format below allows one change for all plots\n",
    "plt.rcParams[\"figure.figsize\"] = (15,5)"
   ]
  },
  {
   "cell_type": "code",
   "execution_count": 26,
   "metadata": {},
   "outputs": [],
   "source": [
    "non_bin_columns = churns_comp_df[(churns_comp_df != 1) & (churns_comp_df != 0)].loc[0].dropna().index"
   ]
  },
  {
   "cell_type": "code",
   "execution_count": 27,
   "metadata": {},
   "outputs": [
    {
     "data": {
      "image/png": "[encoded data removed]",
      "text/plain": [
       "<matplotlib.figure.Figure at 0x7f0cb41e5b00>"
      ]
     },
     "metadata": {
      "needs_background": "light"
     },
     "output_type": "display_data"
    }
   ],
   "source": [
    "churn = plt.bar(x=[x*2-0.5 for x in range(0,len(non_bin_columns))],height=churns_comp_df[non_bin_columns].loc[0], width=0.5, label='churn')\n",
    "stay = plt.bar(x=[x*2 for x in range(0,len(non_bin_columns))],height=churns_comp_df[non_bin_columns].loc[1], width=0.5, label='stay')\n",
    "plt.xticks([x*2-0.25 for x in range(0,len(non_bin_columns))],non_bin_columns,rotation=75);\n",
    "plt.title('Comparison of Sparkify use by Churn/Non-churn users');\n",
    "plt.legend(handles=[churn,stay])\n",
    "plt.tight_layout()\n",
    "plt.savefig('Comparison.png')\n",
    "plt.show()"
   ]
  },
  {
   "cell_type": "markdown",
   "metadata": {},
   "source": [
    "## Observations\n",
    "Quick observations show that those who didn't churn were generally more 'hands on.' They visited the \"NextSong\" page over 50% more than those who did churn. They visited settings slightly more, the home page, and added almost twice as many friends. Those who didn't churn also hit the \"thumbs up\" nearly twice as much, likely allowing Sparkify to better match songs for the user.\n",
    "\n",
    "Unfortunately, users who churned received slightly more ads even with decreased use. This may be part of the problem."
   ]
  },
  {
   "cell_type": "markdown",
   "metadata": {},
   "source": [
    "# More specific *churn* definition\n",
    "Given that we have timestamps available and can easily determine which users downgraded their service, the ML will be better suited with less sparse data on users who \"churn.\" For example, calculating statistics and still only having 1 row per user indicating 'churn' gives us 225 out of 278154 rows to use as positively labeled rows in ML. It might be more useful to have \"dowgrades in 48 hours\" be our church definition. This allows for more rows, and it would be a step closer to providing a possible intervention window for Sparkify, allowing them to take steps to avoid losing the user from paid service."
   ]
  },
  {
   "cell_type": "code",
   "execution_count": 28,
   "metadata": {},
   "outputs": [],
   "source": [
    "churns = list(df.where(df.page=='Cancellation Confirmation').select('userId').toPandas()['userId'])\n",
    "churns = set([int(x) for x in churns])\n",
    "flag_churn = f.udf(lambda x: 1 if int(x) in churns else 0, IntegerType())"
   ]
  },
  {
   "cell_type": "code",
   "execution_count": 29,
   "metadata": {},
   "outputs": [],
   "source": [
    "df = df.withColumn('churns', flag_churn(df.userId))"
   ]
  },
  {
   "cell_type": "code",
   "execution_count": 30,
   "metadata": {},
   "outputs": [],
   "source": [
    "df = df.withColumn('CancelTime',f.when(df['page'] == 'Cancellation Confirmation', df['ts']).otherwise(None))"
   ]
  },
  {
   "cell_type": "code",
   "execution_count": 31,
   "metadata": {},
   "outputs": [
    {
     "data": {
      "text/plain": [
       "Row(artist='Martha Tilston', auth='Logged In', firstName='Colin', gender='M', itemInSession=50, lastName='Freeman', length=277.89016, level='paid', location='Bakersfield, CA', method='PUT', page='NextSong', registration=1538173362000, sessionId=29, song='Rockpools', status=200, ts=1538352117000, userAgent='Mozilla/5.0 (Windows NT 6.1; WOW64; rv:31.0) Gecko/20100101 Firefox/31.0', userId='30', datetime='2018-10-01 00:01:57', churns=0, CancelTime=None)"
      ]
     },
     "execution_count": 31,
     "metadata": {},
     "output_type": "execute_result"
    }
   ],
   "source": [
    "df.persist()\n",
    "df.head()"
   ]
  },
  {
   "cell_type": "code",
   "execution_count": 32,
   "metadata": {},
   "outputs": [],
   "source": [
    "all_time = w.partitionBy('userId')\\\n",
    "                .orderBy('ts')\\\n",
    "                .rangeBetween(w.unboundedPreceding,w.unboundedFollowing)\n",
    "to_now = w.partitionBy('userId')\\\n",
    "                .orderBy('ts')\\\n",
    "                .rangeBetween(w.unboundedPreceding,0)\n",
    "to_now_all = w.orderBy('ts')\\\n",
    "                .rangeBetween(w.unboundedPreceding,0)"
   ]
  },
  {
   "cell_type": "code",
   "execution_count": 33,
   "metadata": {},
   "outputs": [],
   "source": [
    "# define the forward-filled column\n",
    "filled_column = f.last(df['CancelTime']).over(all_time)\n",
    "\n",
    "# do the fill\n",
    "df = df.withColumn('Cancel_Time', filled_column)"
   ]
  },
  {
   "cell_type": "code",
   "execution_count": 34,
   "metadata": {},
   "outputs": [],
   "source": [
    "df = df.drop('CancelTime')\n",
    "df = df.withColumn('Until_Cancel',df.Cancel_Time - df.ts)"
   ]
  },
  {
   "cell_type": "code",
   "execution_count": 35,
   "metadata": {},
   "outputs": [],
   "source": [
    "df = df.withColumn('CancelDate', f.from_unixtime(df.Cancel_Time/1000))\n",
    "check_48 = f.udf(lambda x: 1 if x != None and x <= 172800000 else 0,IntegerType())\n",
    "check_week = f.udf(lambda x: 1 if x != None and x <= 604800000 else 0,IntegerType())\n",
    "check_2_weeks = f.udf(lambda x: 1 if x != None and x <= 1209600000 else 0,IntegerType())\n",
    "df = df.withColumn('CancelIn48',check_48(df.Until_Cancel))\n",
    "df = df.withColumn('CancelInWeek',check_week(df.Until_Cancel))\n",
    "df = df.withColumn('CancelIn2Weeks', check_2_weeks(df.Until_Cancel))"
   ]
  },
  {
   "cell_type": "code",
   "execution_count": 36,
   "metadata": {},
   "outputs": [],
   "source": [
    "window_48 = w.partitionBy('userId')\\\n",
    "            .orderBy('ts')\\\n",
    "            .rangeBetween(-172800000,0)\n",
    "window_1_week = w.partitionBy('userId')\\\n",
    "            .orderBy('ts')\\\n",
    "            .rangeBetween(-604800000,0)\n",
    "window_2_weeks = w.partitionBy('userId')\\\n",
    "            .orderBy('ts')\\\n",
    "            .rangeBetween(-1209600000,0)"
   ]
  },
  {
   "cell_type": "code",
   "execution_count": 37,
   "metadata": {},
   "outputs": [],
   "source": [
    "df = df.withColumn('actions_48',f.count(df.page).over(window_48))\\\n",
    "    .withColumn('actions_week', f.count(df.page).over(window_1_week))\\\n",
    "    .withColumn('actions_2weeks', f.count(df.page).over(window_2_weeks))"
   ]
  },
  {
   "cell_type": "code",
   "execution_count": 38,
   "metadata": {},
   "outputs": [],
   "source": [
    "advert = f.udf(lambda x: 1 if x =='Roll Advert' else 0, IntegerType())\n",
    "df = df.withColumn('ad_here',advert(df.page))"
   ]
  },
  {
   "cell_type": "code",
   "execution_count": 39,
   "metadata": {},
   "outputs": [
    {
     "data": {
      "text/plain": [
       "Row(artist='Sleeping With Sirens', auth='Logged In', firstName='Darianna', gender='F', itemInSession=0, lastName='Carpenter', length=202.97098, level='free', location='Bridgeport-Stamford-Norwalk, CT', method='PUT', page='NextSong', registration=1538016340000, sessionId=31, song='Captain Tyin Knots VS Mr Walkway (No Way)', status=200, ts=1539003534000, userAgent='\"Mozilla/5.0 (iPhone; CPU iPhone OS 7_1_2 like Mac OS X) AppleWebKit/537.51.2 (KHTML, like Gecko) Version/7.0 Mobile/11D257 Safari/9537.53\"', userId='100010', datetime='2018-10-08 12:58:54', churns=0, Cancel_Time=None, Until_Cancel=None, CancelDate=None, CancelIn48=0, CancelInWeek=0, CancelIn2Weeks=0, actions_48=1, actions_week=1, actions_2weeks=1, ad_here=0)"
      ]
     },
     "execution_count": 39,
     "metadata": {},
     "output_type": "execute_result"
    }
   ],
   "source": [
    "df.persist()\n",
    "df.head()"
   ]
  },
  {
   "cell_type": "code",
   "execution_count": 40,
   "metadata": {},
   "outputs": [],
   "source": [
    "friend = f.udf(lambda x: 1 if x =='Add Friend' else 0, IntegerType())\n",
    "df = df.withColumn('friend_here',friend(df.page))\n",
    "total_friends = f.sum(df['friend_here']).over(to_now)\n",
    "df = df.withColumn('friends',total_friends)"
   ]
  },
  {
   "cell_type": "code",
   "execution_count": 41,
   "metadata": {},
   "outputs": [],
   "source": [
    "df = df.withColumn('ads_2_weeks',f.sum(df.ad_here).over(window_2_weeks))\\\n",
    "    .withColumn('ads_1_week',f.sum(df.ad_here).over(window_1_week))\\\n",
    "    .withColumn('ads_48',f.sum(df.ad_here).over(window_48))\n",
    "\n",
    "# df.select('ads_2_weeks', 'ads_1_week','ads_48','page','userID','ad_here','Until_Cancel').where(df.ad_here==1).show(80)"
   ]
  },
  {
   "cell_type": "code",
   "execution_count": 42,
   "metadata": {},
   "outputs": [],
   "source": [
    "#average session item per userId over various time windows\n",
    "df = df.withColumn('sessionItems_48',f.mean(df.itemInSession).over(window_48))\\\n",
    "        .withColumn('sessionItems_week',f.mean(df.itemInSession).over(window_1_week))\\\n",
    "        .withColumn('sessionItems_2_weeks',f.mean(df.itemInSession).over(window_2_weeks))"
   ]
  },
  {
   "cell_type": "code",
   "execution_count": 43,
   "metadata": {},
   "outputs": [],
   "source": [
    "df = df.withColumn('ads_per_action_48',f.col('ads_48')/f.col('actions_48'))\\\n",
    "        .withColumn('ads_per_action_week',f.col('ads_1_week')/f.col('actions_week'))\\\n",
    "        .withColumn('ads_per_action_2_weeks',f.col('ads_2_weeks')/f.col('actions_2weeks'))"
   ]
  },
  {
   "cell_type": "code",
   "execution_count": 44,
   "metadata": {},
   "outputs": [
    {
     "data": {
      "text/plain": [
       "Row(artist='Sleeping With Sirens', auth='Logged In', firstName='Darianna', gender='F', itemInSession=0, lastName='Carpenter', length=202.97098, level='free', location='Bridgeport-Stamford-Norwalk, CT', method='PUT', page='NextSong', registration=1538016340000, sessionId=31, song='Captain Tyin Knots VS Mr Walkway (No Way)', status=200, ts=1539003534000, userAgent='\"Mozilla/5.0 (iPhone; CPU iPhone OS 7_1_2 like Mac OS X) AppleWebKit/537.51.2 (KHTML, like Gecko) Version/7.0 Mobile/11D257 Safari/9537.53\"', userId='100010', datetime='2018-10-08 12:58:54', churns=0, Cancel_Time=None, Until_Cancel=None, CancelDate=None, CancelIn48=0, CancelInWeek=0, CancelIn2Weeks=0, actions_48=1, actions_week=1, actions_2weeks=1, ad_here=0, friend_here=0, friends=0, ads_2_weeks=0, ads_1_week=0, ads_48=0, sessionItems_48=0.0, sessionItems_week=0.0, sessionItems_2_weeks=0.0, ads_per_action_48=0.0, ads_per_action_week=0.0, ads_per_action_2_weeks=0.0)"
      ]
     },
     "execution_count": 44,
     "metadata": {},
     "output_type": "execute_result"
    }
   ],
   "source": [
    "df.persist()\n",
    "df.head()"
   ]
  },
  {
   "cell_type": "code",
   "execution_count": 45,
   "metadata": {},
   "outputs": [
    {
     "name": "stdout",
     "output_type": "stream",
     "text": [
      "2019-04-07 00:48:56.397781\n"
     ]
    }
   ],
   "source": [
    "print(datetime.datetime.now())"
   ]
  },
  {
   "cell_type": "code",
   "execution_count": 46,
   "metadata": {},
   "outputs": [
    {
     "name": "stdout",
     "output_type": "stream",
     "text": [
      "0:03:04.598451\n"
     ]
    }
   ],
   "source": [
    "print(time_elapsed())"
   ]
  },
  {
   "cell_type": "code",
   "execution_count": 47,
   "metadata": {},
   "outputs": [],
   "source": [
    "#Test Feature function\n",
    "##This function allows for a quick examination of new features, comparing churning users\n",
    "##to non-churning users. Time column can be changed to varying cancellation timeline columns\n",
    "\n",
    "def test_feat(feat):\n",
    "    print(df.groupBy('CancelIn48').avg(feat).collect())"
   ]
  },
  {
   "cell_type": "code",
   "execution_count": 48,
   "metadata": {},
   "outputs": [],
   "source": [
    "#Counts number of unique sessions for a user up to this point\n",
    "#https://stackoverflow.com/a/45869254/9554411\n",
    "df = df.withColumn('sessions',f.size(f.collect_set('sessionId').over(to_now)))"
   ]
  },
  {
   "cell_type": "code",
   "execution_count": 49,
   "metadata": {},
   "outputs": [
    {
     "data": {
      "text/plain": [
       "Row(artist='Sleeping With Sirens', auth='Logged In', firstName='Darianna', gender='F', itemInSession=0, lastName='Carpenter', length=202.97098, level='free', location='Bridgeport-Stamford-Norwalk, CT', method='PUT', page='NextSong', registration=1538016340000, sessionId=31, song='Captain Tyin Knots VS Mr Walkway (No Way)', status=200, ts=1539003534000, userAgent='\"Mozilla/5.0 (iPhone; CPU iPhone OS 7_1_2 like Mac OS X) AppleWebKit/537.51.2 (KHTML, like Gecko) Version/7.0 Mobile/11D257 Safari/9537.53\"', userId='100010', datetime='2018-10-08 12:58:54', churns=0, Cancel_Time=None, Until_Cancel=None, CancelDate=None, CancelIn48=0, CancelInWeek=0, CancelIn2Weeks=0, actions_48=1, actions_week=1, actions_2weeks=1, ad_here=0, friend_here=0, friends=0, ads_2_weeks=0, ads_1_week=0, ads_48=0, sessionItems_48=0.0, sessionItems_week=0.0, sessionItems_2_weeks=0.0, ads_per_action_48=0.0, ads_per_action_week=0.0, ads_per_action_2_weeks=0.0, sessions=1)"
      ]
     },
     "execution_count": 49,
     "metadata": {},
     "output_type": "execute_result"
    }
   ],
   "source": [
    "df.head()"
   ]
  },
  {
   "cell_type": "code",
   "execution_count": 50,
   "metadata": {},
   "outputs": [],
   "source": [
    "df = df.withColumn('sessions_48',f.size(f.collect_set('sessionId').over(window_48)))"
   ]
  },
  {
   "cell_type": "code",
   "execution_count": 51,
   "metadata": {},
   "outputs": [],
   "source": [
    "df = df.withColumn('sessions_2weeks', f.size(f.collect_set('sessionId').over(window_2_weeks)) )"
   ]
  },
  {
   "cell_type": "code",
   "execution_count": 52,
   "metadata": {},
   "outputs": [],
   "source": [
    "df = df.withColumn('avgSessionItems', f.mean('itemInSession').over(to_now))"
   ]
  },
  {
   "cell_type": "code",
   "execution_count": 53,
   "metadata": {},
   "outputs": [],
   "source": [
    "df = df.withColumn('maxItems', f.max('itemInSession').over(to_now))"
   ]
  },
  {
   "cell_type": "code",
   "execution_count": 54,
   "metadata": {},
   "outputs": [
    {
     "data": {
      "text/plain": [
       "Row(artist='Sleeping With Sirens', auth='Logged In', firstName='Darianna', gender='F', itemInSession=0, lastName='Carpenter', length=202.97098, level='free', location='Bridgeport-Stamford-Norwalk, CT', method='PUT', page='NextSong', registration=1538016340000, sessionId=31, song='Captain Tyin Knots VS Mr Walkway (No Way)', status=200, ts=1539003534000, userAgent='\"Mozilla/5.0 (iPhone; CPU iPhone OS 7_1_2 like Mac OS X) AppleWebKit/537.51.2 (KHTML, like Gecko) Version/7.0 Mobile/11D257 Safari/9537.53\"', userId='100010', datetime='2018-10-08 12:58:54', churns=0, Cancel_Time=None, Until_Cancel=None, CancelDate=None, CancelIn48=0, CancelInWeek=0, CancelIn2Weeks=0, actions_48=1, actions_week=1, actions_2weeks=1, ad_here=0, friend_here=0, friends=0, ads_2_weeks=0, ads_1_week=0, ads_48=0, sessionItems_48=0.0, sessionItems_week=0.0, sessionItems_2_weeks=0.0, ads_per_action_48=0.0, ads_per_action_week=0.0, ads_per_action_2_weeks=0.0, sessions=1, sessions_48=1, sessions_2weeks=1, avgSessionItems=0.0, maxItems=0)"
      ]
     },
     "execution_count": 54,
     "metadata": {},
     "output_type": "execute_result"
    }
   ],
   "source": [
    "df.persist()\n",
    "df.head()"
   ]
  },
  {
   "cell_type": "code",
   "execution_count": 55,
   "metadata": {},
   "outputs": [
    {
     "name": "stdout",
     "output_type": "stream",
     "text": [
      "root\n",
      " |-- artist: string (nullable = true)\n",
      " |-- auth: string (nullable = true)\n",
      " |-- firstName: string (nullable = true)\n",
      " |-- gender: string (nullable = true)\n",
      " |-- itemInSession: long (nullable = true)\n",
      " |-- lastName: string (nullable = true)\n",
      " |-- length: double (nullable = true)\n",
      " |-- level: string (nullable = true)\n",
      " |-- location: string (nullable = true)\n",
      " |-- method: string (nullable = true)\n",
      " |-- page: string (nullable = true)\n",
      " |-- registration: long (nullable = true)\n",
      " |-- sessionId: long (nullable = true)\n",
      " |-- song: string (nullable = true)\n",
      " |-- status: long (nullable = true)\n",
      " |-- ts: long (nullable = true)\n",
      " |-- userAgent: string (nullable = true)\n",
      " |-- userId: string (nullable = true)\n",
      " |-- datetime: string (nullable = true)\n",
      " |-- churns: integer (nullable = true)\n",
      " |-- Cancel_Time: long (nullable = true)\n",
      " |-- Until_Cancel: long (nullable = true)\n",
      " |-- CancelDate: string (nullable = true)\n",
      " |-- CancelIn48: integer (nullable = true)\n",
      " |-- CancelInWeek: integer (nullable = true)\n",
      " |-- CancelIn2Weeks: integer (nullable = true)\n",
      " |-- actions_48: long (nullable = false)\n",
      " |-- actions_week: long (nullable = false)\n",
      " |-- actions_2weeks: long (nullable = false)\n",
      " |-- ad_here: integer (nullable = true)\n",
      " |-- friend_here: integer (nullable = true)\n",
      " |-- friends: long (nullable = true)\n",
      " |-- ads_2_weeks: long (nullable = true)\n",
      " |-- ads_1_week: long (nullable = true)\n",
      " |-- ads_48: long (nullable = true)\n",
      " |-- sessionItems_48: double (nullable = true)\n",
      " |-- sessionItems_week: double (nullable = true)\n",
      " |-- sessionItems_2_weeks: double (nullable = true)\n",
      " |-- ads_per_action_48: double (nullable = true)\n",
      " |-- ads_per_action_week: double (nullable = true)\n",
      " |-- ads_per_action_2_weeks: double (nullable = true)\n",
      " |-- sessions: integer (nullable = false)\n",
      " |-- sessions_48: integer (nullable = false)\n",
      " |-- sessions_2weeks: integer (nullable = false)\n",
      " |-- avgSessionItems: double (nullable = true)\n",
      " |-- maxItems: long (nullable = true)\n",
      "\n"
     ]
    }
   ],
   "source": [
    "df.printSchema()"
   ]
  },
  {
   "cell_type": "code",
   "execution_count": 56,
   "metadata": {},
   "outputs": [],
   "source": [
    "check_put = f.udf(lambda x: 1 if x == \"PUT\" else 0,IntegerType())\n",
    "df = df.withColumn('putHere',check_put(df.method))\n",
    "check_get = f.udf(lambda x: 1 if x == \"GET\" else 0,IntegerType())\n",
    "df = df.withColumn('getHere',check_get(df.method))\n",
    "\n",
    "df = df.withColumn('get_48',f.sum(df.getHere).over(window_48))\\\n",
    "        .withColumn('get_week',f.sum(df.getHere).over(window_1_week))\\\n",
    "        .withColumn('get_2_weeks',f.sum(df.getHere).over(window_2_weeks))\n",
    "\n",
    "df = df.withColumn('put_48',f.sum(df.putHere).over(window_48))\\\n",
    "        .withColumn('put_week',f.sum(df.putHere).over(window_1_week))\\\n",
    "        .withColumn('put_2_weeks',f.sum(df.putHere).over(window_2_weeks))\n",
    "\n",
    "df = df.withColumn('get_put_48',df.get_48/df.put_48)\\\n",
    "        .withColumn('get_put_week',df.get_week/df.put_week)\\\n",
    "        .withColumn('get_put_2_weeks',df.get_2_weeks/df.put_2_weeks)"
   ]
  },
  {
   "cell_type": "code",
   "execution_count": 57,
   "metadata": {},
   "outputs": [
    {
     "name": "stdout",
     "output_type": "stream",
     "text": [
      "+------+-------+-------+------+------+------+-------------------+\n",
      "|userId|getHere|putHere|method|get_48|put_48|         get_put_48|\n",
      "+------+-------+-------+------+------+------+-------------------+\n",
      "|100010|      0|      1|   PUT|     0|     1|                0.0|\n",
      "|100010|      0|      1|   PUT|     0|     2|                0.0|\n",
      "|100010|      0|      1|   PUT|     0|     3|                0.0|\n",
      "|100010|      0|      1|   PUT|     0|     4|                0.0|\n",
      "|100010|      0|      1|   PUT|     0|     5|                0.0|\n",
      "|100010|      0|      1|   PUT|     0|     6|                0.0|\n",
      "|100010|      0|      1|   PUT|     0|     7|                0.0|\n",
      "|100010|      0|      1|   PUT|     0|     8|                0.0|\n",
      "|100010|      1|      0|   GET|     1|     8|              0.125|\n",
      "|100010|      0|      1|   PUT|     1|     9| 0.1111111111111111|\n",
      "|100010|      0|      1|   PUT|     1|    10|                0.1|\n",
      "|100010|      0|      1|   PUT|     1|    11|0.09090909090909091|\n",
      "|100010|      1|      0|   GET|     2|    11|0.18181818181818182|\n",
      "|100010|      0|      1|   PUT|     2|    12|0.16666666666666666|\n",
      "|100010|      0|      1|   PUT|     2|    13|0.15384615384615385|\n",
      "|100010|      0|      1|   PUT|     2|    14|0.14285714285714285|\n",
      "|100010|      0|      1|   PUT|     2|    15|0.13333333333333333|\n",
      "|100010|      1|      0|   GET|     3|    15|                0.2|\n",
      "|100010|      0|      1|   PUT|     3|    16|             0.1875|\n",
      "|100010|      1|      0|   GET|     4|    16|               0.25|\n",
      "+------+-------+-------+------+------+------+-------------------+\n",
      "only showing top 20 rows\n",
      "\n"
     ]
    }
   ],
   "source": [
    "df.select('userId','getHere','putHere','method', 'get_48', 'put_48','get_put_48').show(20)"
   ]
  },
  {
   "cell_type": "code",
   "execution_count": 58,
   "metadata": {},
   "outputs": [
    {
     "data": {
      "text/plain": [
       "251645"
      ]
     },
     "execution_count": 58,
     "metadata": {},
     "output_type": "execute_result"
    }
   ],
   "source": [
    "df.select('length','CancelIn48').where(df.method=='PUT').where(df.CancelIn48=='0').count()"
   ]
  },
  {
   "cell_type": "code",
   "execution_count": 59,
   "metadata": {},
   "outputs": [
    {
     "name": "stdout",
     "output_type": "stream",
     "text": [
      "2019-04-07 00:50:50.869457\n"
     ]
    }
   ],
   "source": [
    "print(datetime.datetime.now())"
   ]
  },
  {
   "cell_type": "code",
   "execution_count": 60,
   "metadata": {},
   "outputs": [
    {
     "name": "stdout",
     "output_type": "stream",
     "text": [
      "root\n",
      " |-- artist: string (nullable = true)\n",
      " |-- auth: string (nullable = true)\n",
      " |-- firstName: string (nullable = true)\n",
      " |-- gender: string (nullable = true)\n",
      " |-- itemInSession: long (nullable = true)\n",
      " |-- lastName: string (nullable = true)\n",
      " |-- length: double (nullable = true)\n",
      " |-- level: string (nullable = true)\n",
      " |-- location: string (nullable = true)\n",
      " |-- method: string (nullable = true)\n",
      " |-- page: string (nullable = true)\n",
      " |-- registration: long (nullable = true)\n",
      " |-- sessionId: long (nullable = true)\n",
      " |-- song: string (nullable = true)\n",
      " |-- status: long (nullable = true)\n",
      " |-- ts: long (nullable = true)\n",
      " |-- userAgent: string (nullable = true)\n",
      " |-- userId: string (nullable = true)\n",
      " |-- datetime: string (nullable = true)\n",
      " |-- churns: integer (nullable = true)\n",
      " |-- Cancel_Time: long (nullable = true)\n",
      " |-- Until_Cancel: long (nullable = true)\n",
      " |-- CancelDate: string (nullable = true)\n",
      " |-- CancelIn48: integer (nullable = true)\n",
      " |-- CancelInWeek: integer (nullable = true)\n",
      " |-- CancelIn2Weeks: integer (nullable = true)\n",
      " |-- actions_48: long (nullable = false)\n",
      " |-- actions_week: long (nullable = false)\n",
      " |-- actions_2weeks: long (nullable = false)\n",
      " |-- ad_here: integer (nullable = true)\n",
      " |-- friend_here: integer (nullable = true)\n",
      " |-- friends: long (nullable = true)\n",
      " |-- ads_2_weeks: long (nullable = true)\n",
      " |-- ads_1_week: long (nullable = true)\n",
      " |-- ads_48: long (nullable = true)\n",
      " |-- sessionItems_48: double (nullable = true)\n",
      " |-- sessionItems_week: double (nullable = true)\n",
      " |-- sessionItems_2_weeks: double (nullable = true)\n",
      " |-- ads_per_action_48: double (nullable = true)\n",
      " |-- ads_per_action_week: double (nullable = true)\n",
      " |-- ads_per_action_2_weeks: double (nullable = true)\n",
      " |-- sessions: integer (nullable = false)\n",
      " |-- sessions_48: integer (nullable = false)\n",
      " |-- sessions_2weeks: integer (nullable = false)\n",
      " |-- avgSessionItems: double (nullable = true)\n",
      " |-- maxItems: long (nullable = true)\n",
      " |-- putHere: integer (nullable = true)\n",
      " |-- getHere: integer (nullable = true)\n",
      " |-- get_48: long (nullable = true)\n",
      " |-- get_week: long (nullable = true)\n",
      " |-- get_2_weeks: long (nullable = true)\n",
      " |-- put_48: long (nullable = true)\n",
      " |-- put_week: long (nullable = true)\n",
      " |-- put_2_weeks: long (nullable = true)\n",
      " |-- get_put_48: double (nullable = true)\n",
      " |-- get_put_week: double (nullable = true)\n",
      " |-- get_put_2_weeks: double (nullable = true)\n",
      "\n"
     ]
    }
   ],
   "source": [
    "df.printSchema()"
   ]
  },
  {
   "cell_type": "code",
   "execution_count": 61,
   "metadata": {
    "scrolled": true
   },
   "outputs": [
    {
     "name": "stdout",
     "output_type": "stream",
     "text": [
      "['artist', 'auth', 'firstName', 'gender', 'itemInSession', 'lastName', 'length', 'level', 'location', 'method', 'page', 'registration', 'sessionId', 'song', 'status', 'ts', 'userAgent', 'userId', 'datetime', 'churns', 'Cancel_Time', 'Until_Cancel', 'CancelDate', 'CancelIn48', 'CancelInWeek', 'CancelIn2Weeks', 'actions_48', 'actions_week', 'actions_2weeks', 'ad_here', 'friend_here', 'friends', 'ads_2_weeks', 'ads_1_week', 'ads_48', 'sessionItems_48', 'sessionItems_week', 'sessionItems_2_weeks', 'ads_per_action_48', 'ads_per_action_week', 'ads_per_action_2_weeks', 'sessions', 'sessions_48', 'sessions_2weeks', 'avgSessionItems', 'maxItems', 'putHere', 'getHere', 'get_48', 'get_week', 'get_2_weeks', 'put_48', 'put_week', 'put_2_weeks', 'get_put_48', 'get_put_week', 'get_put_2_weeks']\n"
     ]
    }
   ],
   "source": [
    "features = df.columns\n",
    "print(features)"
   ]
  },
  {
   "cell_type": "code",
   "execution_count": 62,
   "metadata": {},
   "outputs": [],
   "source": [
    "feats = ['itemInSession','length', 'page','sessionId', 'CancelIn48','CancelIn2Weeks','CancelInWeek', 'actions_48', 'actions_week', 'actions_2weeks', 'friends', 'ads_2_weeks', 'ads_1_week', 'ads_48', 'sessionItems_48', 'sessionItems_week', 'sessionItems_2_weeks', 'ads_per_action_48', 'ads_per_action_week', 'ads_per_action_2_weeks', 'sessions', 'sessions_48', 'sessions_2weeks', 'avgSessionItems', 'maxItems', 'get_48', 'get_week', 'get_2_weeks', 'put_48', 'put_week', 'put_2_weeks', 'get_put_48', 'get_put_week', 'get_put_2_weeks']"
   ]
  },
  {
   "cell_type": "code",
   "execution_count": 63,
   "metadata": {},
   "outputs": [
    {
     "name": "stdout",
     "output_type": "stream",
     "text": [
      "2019-04-07 00:50:50.941622\n"
     ]
    }
   ],
   "source": [
    "print(datetime.datetime.now())"
   ]
  },
  {
   "cell_type": "code",
   "execution_count": 64,
   "metadata": {},
   "outputs": [
    {
     "name": "stdout",
     "output_type": "stream",
     "text": [
      "['itemInSession', 'length', 'sessionId', 'actions_48', 'actions_week', 'actions_2weeks', 'friends', 'ads_2_weeks', 'ads_1_week', 'ads_48', 'sessionItems_48', 'sessionItems_week', 'sessionItems_2_weeks', 'ads_per_action_48', 'ads_per_action_week', 'ads_per_action_2_weeks', 'sessions', 'sessions_48', 'sessions_2weeks', 'avgSessionItems', 'maxItems', 'get_48', 'get_week', 'get_2_weeks', 'put_48', 'put_week', 'put_2_weeks', 'get_put_48', 'get_put_week', 'get_put_2_weeks']\n"
     ]
    }
   ],
   "source": [
    "#Select features that do not have a 1:1 ratio \n",
    "features = []\n",
    "for col in feats:\n",
    "    try:\n",
    "        a = df.groupBy('CancelIn2Weeks').avg(col).collect()[0][1]\n",
    "        b = df.groupBy('CancelIn2Weeks').avg(col).collect()[1][1]\n",
    "        rel = abs(1-(a/b))\n",
    "        if rel > 1.05 or rel < .95:\n",
    "            features.append(col)\n",
    "    except:\n",
    "        pass\n",
    "print(features)"
   ]
  },
  {
   "cell_type": "code",
   "execution_count": 65,
   "metadata": {},
   "outputs": [
    {
     "name": "stdout",
     "output_type": "stream",
     "text": [
      "2019-04-07 01:03:18.581765\n"
     ]
    }
   ],
   "source": [
    "print(datetime.datetime.now())"
   ]
  },
  {
   "cell_type": "code",
   "execution_count": 66,
   "metadata": {},
   "outputs": [
    {
     "name": "stdout",
     "output_type": "stream",
     "text": [
      "['itemInSession', 'length', 'actions_48', 'actions_week', 'actions_2weeks', 'friends', 'ads_2_weeks', 'ads_1_week', 'ads_48', 'sessionItems_48', 'sessionItems_week', 'sessionItems_2_weeks', 'ads_per_action_48', 'ads_per_action_week', 'ads_per_action_2_weeks', 'sessions', 'sessions_48', 'sessions_2weeks', 'avgSessionItems', 'maxItems', 'get_48', 'get_week', 'get_2_weeks', 'put_48', 'put_week', 'put_2_weeks', 'get_put_48', 'get_put_week', 'get_put_2_weeks']\n"
     ]
    }
   ],
   "source": [
    "#Remove non-quantitative features that can't be used in ML model\n",
    "non_quant = ['churns','Until_Cancel','sessionId','friend_here','ad_here', 'CancelIn48', 'CancelInWeek']\n",
    "for feat in non_quant:\n",
    "    try:\n",
    "        features.remove(feat)\n",
    "    except:\n",
    "        pass\n",
    "print(features)"
   ]
  },
  {
   "cell_type": "code",
   "execution_count": 67,
   "metadata": {},
   "outputs": [
    {
     "data": {
      "text/plain": [
       "Row(artist='Sleeping With Sirens', auth='Logged In', firstName='Darianna', gender='F', itemInSession=0, lastName='Carpenter', length=202.97098, level='free', location='Bridgeport-Stamford-Norwalk, CT', method='PUT', page='NextSong', registration=1538016340000, sessionId=31, song='Captain Tyin Knots VS Mr Walkway (No Way)', status=200, ts=1539003534000, userAgent='\"Mozilla/5.0 (iPhone; CPU iPhone OS 7_1_2 like Mac OS X) AppleWebKit/537.51.2 (KHTML, like Gecko) Version/7.0 Mobile/11D257 Safari/9537.53\"', userId='100010', datetime='2018-10-08 12:58:54', churns=0, Cancel_Time=-1, Until_Cancel=-1, CancelDate=None, CancelIn48=0, CancelInWeek=0, CancelIn2Weeks=0, actions_48=1, actions_week=1, actions_2weeks=1, ad_here=0, friend_here=0, friends=0, ads_2_weeks=0, ads_1_week=0, ads_48=0, sessionItems_48=0.0, sessionItems_week=0.0, sessionItems_2_weeks=0.0, ads_per_action_48=0.0, ads_per_action_week=0.0, ads_per_action_2_weeks=0.0, sessions=1, sessions_48=1, sessions_2weeks=1, avgSessionItems=0.0, maxItems=0, putHere=1, getHere=0, get_48=0, get_week=0, get_2_weeks=0, put_48=1, put_week=1, put_2_weeks=1, get_put_48=0.0, get_put_week=0.0, get_put_2_weeks=0.0)"
      ]
     },
     "execution_count": 67,
     "metadata": {},
     "output_type": "execute_result"
    }
   ],
   "source": [
    "df = df.fillna(-1)\n",
    "df.persist()\n",
    "df.head()"
   ]
  },
  {
   "cell_type": "code",
   "execution_count": 68,
   "metadata": {},
   "outputs": [],
   "source": [
    "#if new features created, drop old vectorized column to create new\n",
    "# df = df.drop('DescVec')"
   ]
  },
  {
   "cell_type": "code",
   "execution_count": 69,
   "metadata": {},
   "outputs": [],
   "source": [
    "feat_cols = features\n",
    "feat_list = 'churn in 2 week'"
   ]
  },
  {
   "cell_type": "code",
   "execution_count": 70,
   "metadata": {},
   "outputs": [
    {
     "name": "stdout",
     "output_type": "stream",
     "text": [
      "['itemInSession', 'length', 'actions_48', 'actions_week', 'actions_2weeks', 'friends', 'ads_2_weeks', 'ads_1_week', 'ads_48', 'sessionItems_48', 'sessionItems_week', 'sessionItems_2_weeks', 'ads_per_action_48', 'ads_per_action_week', 'ads_per_action_2_weeks', 'sessions', 'sessions_48', 'sessions_2weeks', 'avgSessionItems', 'maxItems', 'get_48', 'get_week', 'get_2_weeks', 'put_48', 'put_week', 'put_2_weeks', 'get_put_48', 'get_put_week', 'get_put_2_weeks']\n"
     ]
    }
   ],
   "source": [
    "print(feat_cols)"
   ]
  },
  {
   "cell_type": "code",
   "execution_count": 71,
   "metadata": {},
   "outputs": [
    {
     "name": "stdout",
     "output_type": "stream",
     "text": [
      "2019-04-07 01:03:38.024527\n"
     ]
    }
   ],
   "source": [
    "print(datetime.datetime.now())\n",
    "assembler = VectorAssembler(inputCols=feat_cols, outputCol='DescVec')\n",
    "df = assembler.transform(df)"
   ]
  },
  {
   "cell_type": "code",
   "execution_count": 72,
   "metadata": {},
   "outputs": [
    {
     "data": {
      "text/plain": [
       "Row(artist='Sleeping With Sirens', auth='Logged In', firstName='Darianna', gender='F', itemInSession=0, lastName='Carpenter', length=202.97098, level='free', location='Bridgeport-Stamford-Norwalk, CT', method='PUT', page='NextSong', registration=1538016340000, sessionId=31, song='Captain Tyin Knots VS Mr Walkway (No Way)', status=200, ts=1539003534000, userAgent='\"Mozilla/5.0 (iPhone; CPU iPhone OS 7_1_2 like Mac OS X) AppleWebKit/537.51.2 (KHTML, like Gecko) Version/7.0 Mobile/11D257 Safari/9537.53\"', userId='100010', datetime='2018-10-08 12:58:54', churns=0, Cancel_Time=-1, Until_Cancel=-1, CancelDate=None, CancelIn48=0, CancelInWeek=0, CancelIn2Weeks=0, actions_48=1, actions_week=1, actions_2weeks=1, ad_here=0, friend_here=0, friends=0, ads_2_weeks=0, ads_1_week=0, ads_48=0, sessionItems_48=0.0, sessionItems_week=0.0, sessionItems_2_weeks=0.0, ads_per_action_48=0.0, ads_per_action_week=0.0, ads_per_action_2_weeks=0.0, sessions=1, sessions_48=1, sessions_2weeks=1, avgSessionItems=0.0, maxItems=0, putHere=1, getHere=0, get_48=0, get_week=0, get_2_weeks=0, put_48=1, put_week=1, put_2_weeks=1, get_put_48=0.0, get_put_week=0.0, get_put_2_weeks=0.0, DescVec=SparseVector(29, {1: 202.971, 2: 1.0, 3: 1.0, 4: 1.0, 15: 1.0, 16: 1.0, 17: 1.0, 23: 1.0, 24: 1.0, 25: 1.0}))"
      ]
     },
     "execution_count": 72,
     "metadata": {},
     "output_type": "execute_result"
    }
   ],
   "source": [
    "df.persist()\n",
    "df.head()"
   ]
  },
  {
   "cell_type": "code",
   "execution_count": 73,
   "metadata": {},
   "outputs": [],
   "source": [
    "data = df.select(f.col(\"CancelIn2Weeks\").alias(\"label\"), f.col('DescVec').alias(\"features\"))"
   ]
  },
  {
   "cell_type": "code",
   "execution_count": 74,
   "metadata": {},
   "outputs": [
    {
     "data": {
      "text/plain": [
       "Row(label=0, features=SparseVector(29, {1: 202.971, 2: 1.0, 3: 1.0, 4: 1.0, 15: 1.0, 16: 1.0, 17: 1.0, 23: 1.0, 24: 1.0, 25: 1.0}))"
      ]
     },
     "execution_count": 74,
     "metadata": {},
     "output_type": "execute_result"
    }
   ],
   "source": [
    "data.persist()\n",
    "data.head()"
   ]
  },
  {
   "cell_type": "code",
   "execution_count": 75,
   "metadata": {},
   "outputs": [],
   "source": [
    "train_data, test_data = data.randomSplit([0.75,0.25], seed=42)"
   ]
  },
  {
   "cell_type": "code",
   "execution_count": 76,
   "metadata": {},
   "outputs": [
    {
     "name": "stdout",
     "output_type": "stream",
     "text": [
      "0:17:48.288787\n"
     ]
    }
   ],
   "source": [
    "print(time_elapsed())"
   ]
  },
  {
   "cell_type": "code",
   "execution_count": 77,
   "metadata": {},
   "outputs": [],
   "source": [
    "depth = 10\n",
    "stepSize = 0.3\n",
    "gbt = GBTClassifier(maxDepth = depth, stepSize = stepSize)\n",
    "# svc = LinearSVC()\n",
    "# lr = LogisticRegression()\n",
    "# rf = RandomForestClassifier(maxDepth=25, seed=42)"
   ]
  },
  {
   "cell_type": "code",
   "execution_count": 78,
   "metadata": {},
   "outputs": [],
   "source": [
    "# Param Grid testing in this cell\n",
    "# grid = ParamGridBuilder()\\\n",
    "#     .addGrid(gbt.maxDepth,[10])\\\n",
    "#     .addGrid(gbt.stepSize,[0.3,0.4])\\\n",
    "#     .build()\n",
    "# evaluator = MulticlassClassificationEvaluator(metricName='weightedRecall')"
   ]
  },
  {
   "cell_type": "code",
   "execution_count": 79,
   "metadata": {},
   "outputs": [
    {
     "name": "stdout",
     "output_type": "stream",
     "text": [
      "2019-04-07 01:03:40.227068\n"
     ]
    }
   ],
   "source": [
    "prev = datetime.datetime.now()\n",
    "print(prev)"
   ]
  },
  {
   "cell_type": "code",
   "execution_count": 80,
   "metadata": {},
   "outputs": [],
   "source": [
    "model_start = datetime.datetime.now()"
   ]
  },
  {
   "cell_type": "code",
   "execution_count": 81,
   "metadata": {},
   "outputs": [],
   "source": [
    "# tv = TrainValidationSplit(estimator=gbt, estimatorParamMaps=grid, evaluator=evaluator, parallelism=2, seed=42)\n",
    "# tv_model = tv.fit(train_data)\n",
    "# results = tv_model.transform(test_data)"
   ]
  },
  {
   "cell_type": "code",
   "execution_count": 82,
   "metadata": {},
   "outputs": [],
   "source": [
    "gbt_model = gbt.fit(train_data)\n",
    "results = gbt_model.transform(test_data)"
   ]
  },
  {
   "cell_type": "code",
   "execution_count": 83,
   "metadata": {},
   "outputs": [],
   "source": [
    "# svc_model = svc.fit(train_data)\n",
    "# results = svc_model.transform(test_data)"
   ]
  },
  {
   "cell_type": "code",
   "execution_count": 84,
   "metadata": {},
   "outputs": [],
   "source": [
    "# lr_model = lr.fit(train_data)\n",
    "# results = lr_model.transform(test_data)"
   ]
  },
  {
   "cell_type": "code",
   "execution_count": 85,
   "metadata": {},
   "outputs": [],
   "source": [
    "# rf_model = rf.fit(train_data)\n",
    "# results = rf_model.transform(test_data)"
   ]
  },
  {
   "cell_type": "code",
   "execution_count": 86,
   "metadata": {},
   "outputs": [
    {
     "name": "stdout",
     "output_type": "stream",
     "text": [
      "2019-04-07 01:45:02.422642\n"
     ]
    }
   ],
   "source": [
    "post = datetime.datetime.now()\n",
    "print(post)"
   ]
  },
  {
   "cell_type": "code",
   "execution_count": 87,
   "metadata": {},
   "outputs": [
    {
     "data": {
      "text/plain": [
       "Row(label=0, features=SparseVector(29, {0: 1.0, 1: 254.7979, 2: 2.0, 3: 2.0, 4: 2.0, 5: 3.0, 9: 0.5, 10: 0.5, 11: 0.5, 15: 5.0, 16: 1.0, 17: 1.0, 18: 25.3675, 19: 59.0, 23: 2.0, 24: 2.0, 25: 2.0}), rawPrediction=DenseVector([1.6083, -1.6083]), probability=DenseVector([0.9615, 0.0385]), prediction=0.0)"
      ]
     },
     "execution_count": 87,
     "metadata": {},
     "output_type": "execute_result"
    }
   ],
   "source": [
    "results.persist()\n",
    "results.head()"
   ]
  },
  {
   "cell_type": "code",
   "execution_count": 89,
   "metadata": {},
   "outputs": [
    {
     "name": "stdout",
     "output_type": "stream",
     "text": [
      "6381\n",
      "6685\n",
      "14\n",
      "95.45250560957366\n",
      "2019-04-07 01:48:29.638170\n"
     ]
    }
   ],
   "source": [
    "num_found = results.filter((results.label == 1) & (results.prediction==1)).count()\n",
    "print(num_found)\n",
    "num_actual = results.filter(results.label == 1).count()\n",
    "print(num_actual)\n",
    "false_pos = results.filter((results.label==0) & (results.prediction==1)).count()\n",
    "print(false_pos)\n",
    "percentage_found = num_found/num_actual * 100\n",
    "print(percentage_found)\n",
    "print(datetime.datetime.now())"
   ]
  },
  {
   "cell_type": "code",
   "execution_count": 90,
   "metadata": {},
   "outputs": [
    {
     "data": {
      "text/plain": [
       "0.9545250560957367"
      ]
     },
     "execution_count": 90,
     "metadata": {},
     "output_type": "execute_result"
    }
   ],
   "source": [
    "num_found/num_actual"
   ]
  },
  {
   "cell_type": "code",
   "execution_count": 91,
   "metadata": {},
   "outputs": [],
   "source": [
    "# best = tv_model.bestModel"
   ]
  },
  {
   "cell_type": "code",
   "execution_count": 92,
   "metadata": {},
   "outputs": [],
   "source": [
    "# cv_model.avgMetrics"
   ]
  },
  {
   "cell_type": "code",
   "execution_count": 93,
   "metadata": {},
   "outputs": [],
   "source": [
    "# best.extractParamMap()"
   ]
  },
  {
   "cell_type": "code",
   "execution_count": 94,
   "metadata": {},
   "outputs": [
    {
     "name": "stdout",
     "output_type": "stream",
     "text": [
      "0:41:22.195574\n",
      "6381\n"
     ]
    }
   ],
   "source": [
    "print(post-prev)\n",
    "print(num_found)"
   ]
  },
  {
   "cell_type": "code",
   "execution_count": 95,
   "metadata": {},
   "outputs": [
    {
     "name": "stdout",
     "output_type": "stream",
     "text": [
      "68972\n",
      "69290\n"
     ]
    }
   ],
   "source": [
    "print(results.filter(results.label==results.prediction).count())\n",
    "print(results.count())"
   ]
  },
  {
   "cell_type": "code",
   "execution_count": 96,
   "metadata": {},
   "outputs": [
    {
     "name": "stdout",
     "output_type": "stream",
     "text": [
      "2019-04-07 01:50:37.677107\n"
     ]
    },
    {
     "data": {
      "text/plain": [
       "DataFrame[label: int, features: vector, rawPrediction: vector, probability: vector, prediction: double]"
      ]
     },
     "execution_count": 96,
     "metadata": {},
     "output_type": "execute_result"
    }
   ],
   "source": [
    "print(datetime.datetime.now())\n",
    "results.unpersist()"
   ]
  },
  {
   "cell_type": "code",
   "execution_count": 97,
   "metadata": {},
   "outputs": [
    {
     "name": "stdout",
     "output_type": "stream",
     "text": [
      "1:04:54.515954\n"
     ]
    }
   ],
   "source": [
    "print(time_elapsed())"
   ]
  },
  {
   "cell_type": "code",
   "execution_count": 98,
   "metadata": {},
   "outputs": [
    {
     "name": "stdout",
     "output_type": "stream",
     "text": [
      "0:47:06.395893\n"
     ]
    }
   ],
   "source": [
    "model_time = time_elapsed(start=model_start)\n",
    "print(model_time)"
   ]
  },
  {
   "cell_type": "code",
   "execution_count": 99,
   "metadata": {},
   "outputs": [
    {
     "name": "stdout",
     "output_type": "stream",
     "text": [
      "Depth = 10 stepSize=0.3 found=6381 time_elapsed = 0:47:06.395893 list = churn in 2 week, Percentage = 95.45250560957366\n"
     ]
    }
   ],
   "source": [
    "print(f'Depth = {depth}', f'stepSize={stepSize}',\\\n",
    "      f'found={num_found}', f'time_elapsed = {model_time}',\\\n",
    "      f'list = {feat_list},', f'Percentage = {percentage_found}')"
   ]
  },
  {
   "cell_type": "markdown",
   "metadata": {},
   "source": [
    "Depth = 3 stepSize=0.3 found=15 time_elapsed = ???? list = long\n",
    "\n",
    "Depth = 10 stepSize=0.3 found=1392 time_elapsed = 0:37:32.540361 list = long\n",
    "\n",
    "Depth = 10 stepSize=0.3 found=582 time_elapsed = 0:31:27.208707 list = short\n",
    "\n",
    "Depth = 10 stepSize=0.3 found=1561 time_elapsed = 0:40:00.490014 list = modified, Percentage = 91.87757504414361\n",
    "\n",
    "Depth = 10 stepSize=0.3 found=1596 time_elapsed = 0:36:25.867960 list = modified + friends, Percentage = 93.93761035903474\n",
    "\n",
    "Depth = 10 stepSize=0.3 found=1591 time_elapsed = 0:38:09.307843 list = modified + friends - some things, Percentage = 93.64331959976457\n",
    "\n",
    "Depth = 10 stepSize=0.3 found=1598 time_elapsed = 0:37:50.957526 list = .05, Percentage = 94.05532666274279\n",
    "\n",
    "Depth = 10 stepSize=0.3 found=1510 time_elapsed = 0:39:22.755387 list = .1 differentiator, Percentage = 88.875809299588\n",
    "\n",
    "Depth = 10 stepSize=0.3 found=1614 time_elapsed = 0:39:35.482227 list = w/ get-put, Percentage = 94.9970570924073\n",
    "\n",
    "Depth = 10 stepSize=0.3 found=3921 time_elapsed = 0:42:15.085041 list = churn in week, Percentage = 94.5274831243973\n",
    "\n",
    "Depth = 10 stepSize=0.3 found=6363 time_elapsed = 0:43:08.062518 list = churn in 2 week, Percentage = 95.18324607329843"
   ]
  },
  {
   "cell_type": "markdown",
   "metadata": {},
   "source": [
    "# Final Steps\n",
    "Clean up your code, adding comments and renaming variables to make the code easier to read and maintain. Refer to the Spark Project Overview page and Data Scientist Capstone Project Rubric to make sure you are including all components of the capstone project and meet all expectations. Remember, this includes thorough documentation in a README file in a Github repository, as well as a web app or blog post."
   ]
  }
 ],
 "metadata": {
  "kernelspec": {
   "display_name": "Python 3",
   "language": "python",
   "name": "python3"
  },
  "language_info": {
   "codemirror_mode": {
    "name": "ipython",
    "version": 3
   },
   "file_extension": ".py",
   "mimetype": "text/x-python",
   "name": "python",
   "nbconvert_exporter": "python",
   "pygments_lexer": "ipython3",
   "version": "3.6.3"
  }
 },
 "nbformat": 4,
 "nbformat_minor": 2
}
